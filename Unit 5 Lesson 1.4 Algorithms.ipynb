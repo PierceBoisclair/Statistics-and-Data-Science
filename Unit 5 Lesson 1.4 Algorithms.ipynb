{
 "cells": [
  {
   "cell_type": "code",
   "execution_count": 5,
   "metadata": {},
   "outputs": [
    {
     "name": "stdout",
     "output_type": "stream",
     "text": [
      "233168\n"
     ]
    }
   ],
   "source": [
    "#1\n",
    "def compute():\n",
    "    ans = sum(x for x in range(1000) if (x % 3 == 0 or x % 5 == 0))\n",
    "    return str(ans)\n",
    "\n",
    "print(compute())"
   ]
  },
  {
   "cell_type": "code",
   "execution_count": 9,
   "metadata": {},
   "outputs": [
    {
     "name": "stdout",
     "output_type": "stream",
     "text": [
      "4613732\n"
     ]
    }
   ],
   "source": [
    "#2\n",
    "def compute():\n",
    "    ans = 0\n",
    "    x = 1  \n",
    "    y = 2  \n",
    "    while x <= 4000000:\n",
    "        if x % 2 == 0:\n",
    "            ans += x\n",
    "        x, y = y, x + y\n",
    "    return str(ans)\n",
    "\n",
    "print(compute())"
   ]
  },
  {
   "cell_type": "code",
   "execution_count": null,
   "metadata": {},
   "outputs": [],
   "source": []
  },
  {
   "cell_type": "code",
   "execution_count": 18,
   "metadata": {},
   "outputs": [
    {
     "name": "stdout",
     "output_type": "stream",
     "text": [
      "71\n",
      "839\n",
      "1471\n",
      "6857\n"
     ]
    }
   ],
   "source": [
    "#3\n",
    "import math \n",
    "  \n",
    "\n",
    "def primeFactors(n): \n",
    "      \n",
    "    # Print the number of two's that divide n \n",
    "    while n % 2 == 0: \n",
    "        print(2), \n",
    "        n = n / 2\n",
    "          \n",
    "    # n must be odd at this point \n",
    "    # so a skip of 2 ( i = i + 2) can be used \n",
    "    for i in range(3,int(math.sqrt(n))+1,2): \n",
    "          \n",
    "        # while i divides n , print i ad divide n \n",
    "        while n % i== 0: \n",
    "            print(i), \n",
    "            n = n / i \n",
    "              \n",
    "    # Condition if n is a prime \n",
    "    # number greater than 2 \n",
    "    if n > 2: \n",
    "        print(n)\n",
    "\n",
    "primeFactors(600851475143)"
   ]
  },
  {
   "cell_type": "code",
   "execution_count": 21,
   "metadata": {},
   "outputs": [
    {
     "name": "stdout",
     "output_type": "stream",
     "text": [
      "906609\n"
     ]
    }
   ],
   "source": [
    "#4\n",
    "def compute():\n",
    "    ans = max(i * j\n",
    "    for i in range(100, 1000)\n",
    "        for j in range(100, 1000)\n",
    "        if str(i * j) == str(i * j)[ : : -1])\n",
    "    return str(ans)\n",
    "\n",
    "print(compute())"
   ]
  },
  {
   "cell_type": "code",
   "execution_count": 33,
   "metadata": {},
   "outputs": [
    {
     "name": "stdout",
     "output_type": "stream",
     "text": [
      "232792560\n"
     ]
    }
   ],
   "source": [
    "#5\n",
    "from functools import reduce\n",
    "\n",
    "def lcm(*values):\n",
    "    values = [value for value in values]\n",
    "    if values:\n",
    "        n  = max(values)\n",
    "        m = n\n",
    "        values.remove(n)\n",
    "        while any( n % value for value in values ):\n",
    "            n +=m\n",
    "        return n\n",
    "    return 0\n",
    "\n",
    "print(reduce(lcm, range(1,21)))"
   ]
  },
  {
   "cell_type": "code",
   "execution_count": 37,
   "metadata": {},
   "outputs": [
    {
     "name": "stdout",
     "output_type": "stream",
     "text": [
      "25164150\n"
     ]
    }
   ],
   "source": [
    "#6\n",
    "def compute():\n",
    "    N = 100\n",
    "    s = sum(i for i in range(1, N + 1))\n",
    "    s2 = sum(i**2 for i in range(1, N + 1))\n",
    "    return str(s**2 - s2)\n",
    "\n",
    "print(compute())"
   ]
  },
  {
   "cell_type": "code",
   "execution_count": 43,
   "metadata": {},
   "outputs": [
    {
     "name": "stdout",
     "output_type": "stream",
     "text": [
      "104743\n"
     ]
    }
   ],
   "source": [
    "#7\n",
    "def is_prime(n):\n",
    "    if n < 2:\n",
    "        return False\n",
    "    i = 2\n",
    "    while (i * i <= n):\n",
    "        if n % i == 0:\n",
    "            return False\n",
    "        i = i + 1\n",
    "    return True\n",
    "\n",
    "def n_prime(n):\n",
    "    i = 2\n",
    "    while n > 0:\n",
    "        if is_prime(i):\n",
    "            n = n - 1\n",
    "            if n == 0:\n",
    "                return i\n",
    "        i = i + 1\n",
    "    return -1\n",
    "\n",
    "print(n_prime(10001))"
   ]
  },
  {
   "cell_type": "code",
   "execution_count": 44,
   "metadata": {},
   "outputs": [
    {
     "name": "stdout",
     "output_type": "stream",
     "text": [
      "23514624000\n"
     ]
    }
   ],
   "source": [
    "# 8 \n",
    "def compute():\n",
    "    ans = max(digit_product(NUMBER[i : i + ADJACENT]) for i in range(len(NUMBER) - ADJACENT + 1))\n",
    "    return str(ans)\n",
    "\n",
    "\n",
    "def digit_product(s):\n",
    "    result = 1\n",
    "    for c in s:\n",
    "    result *= int(c)\n",
    "    return result\n",
    "\n",
    "\n",
    "NUMBER = \"7316717653133062491922511967442657474235534919493496983520312774506326239578318016984801869478851843858615607891129494954595017379583319528532088055111254069874715852386305071569329096329522744304355766896648950445244523161731856403098711121722383113622298934233803081353362766142828064444866452387493035890729629049156044077239071381051585930796086670172427121883998797908792274921901699720888093776657273330010533678812202354218097512545405947522435258490771167055601360483958644670632441572215539753697817977846174064955149290862569321978468622482839722413756570560574902614079729686524145351004748216637048440319989000889524345065854122758866688116427171479924442928230863465674813919123162824586178664583591245665294765456828489128831426076900422421902267105562632111110937054421750694165896040807198403850962455444362981230987879927244284909188845801561660979191338754992005240636899125607176060588611646710940507754100225698315520005593572972571636269561882670428252483600823257530420752963450\"\n",
    "ADJACENT = 13\n",
    "\n",
    "\n",
    "\n",
    "print(compute())"
   ]
  },
  {
   "cell_type": "code",
   "execution_count": 45,
   "metadata": {},
   "outputs": [
    {
     "name": "stdout",
     "output_type": "stream",
     "text": [
      "31875000\n"
     ]
    }
   ],
   "source": [
    "#9\n",
    "\n",
    "def compute():\n",
    "    PERIMETER = 1000\n",
    "    for a in range(1, PERIMETER + 1):\n",
    "        for b in range(a + 1, PERIMETER + 1):\n",
    "            c = PERIMETER - a - b\n",
    "            if a * a + b * b == c * c:\n",
    "                return str(a * b * c)\n",
    "print(compute())"
   ]
  },
  {
   "cell_type": "code",
   "execution_count": 46,
   "metadata": {},
   "outputs": [
    {
     "name": "stdout",
     "output_type": "stream",
     "text": [
      "142913828922\n"
     ]
    }
   ],
   "source": [
    "#10\n",
    "\n",
    "primes = [2] \n",
    "\n",
    "def checkPrime(number):\n",
    "    if number < primes[0]:\n",
    "        return False\n",
    "\n",
    "    for p in primes: \n",
    "        if p > number**1/2:\n",
    "            break; \n",
    "        if number % p == 0:\n",
    "            return False\n",
    "\n",
    "    primes.append(number);\n",
    "    return True\n",
    "\n",
    "primes = [i for i in range(2000000) if checkPrime(i)]\n",
    "print(sum(primes))"
   ]
  },
  {
   "cell_type": "code",
   "execution_count": null,
   "metadata": {},
   "outputs": [],
   "source": []
  }
 ],
 "metadata": {
  "kernelspec": {
   "display_name": "Python 3",
   "language": "python",
   "name": "python3"
  },
  "language_info": {
   "codemirror_mode": {
    "name": "ipython",
    "version": 3
   },
   "file_extension": ".py",
   "mimetype": "text/x-python",
   "name": "python",
   "nbconvert_exporter": "python",
   "pygments_lexer": "ipython3",
   "version": "3.7.2"
  }
 },
 "nbformat": 4,
 "nbformat_minor": 2
}
