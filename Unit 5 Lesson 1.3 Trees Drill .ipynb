{
 "cells": [
  {
   "cell_type": "code",
   "execution_count": 1,
   "metadata": {},
   "outputs": [],
   "source": [
    "class Node:\n",
    "    def __init__(self, val):\n",
    "        self.left = None\n",
    "        self.right = None\n",
    "        self.val = val"
   ]
  },
  {
   "cell_type": "code",
   "execution_count": 3,
   "metadata": {},
   "outputs": [],
   "source": [
    "# Establish the initial root node and children\n",
    "root = Node(\"A\")\n",
    "root.left = Node(\"B\")\n",
    "root.right = Node(\"C\")\n",
    "\n",
    "# Add the appropriate children for ‘B’ and ‘C’\n",
    "root.left.left = Node(\"D\")\n",
    "root.left.right = Node(\"E\")\n",
    "root.right.left = Node(\"F\")\n",
    "root.right.right = Node(\"G\")"
   ]
  },
  {
   "cell_type": "markdown",
   "metadata": {},
   "source": [
    "## DRILL:\n",
    "\n",
    "Implement a binary tree, which is filled with 15 pieces of random data. Your job is to then write a program to traverse the tree using a breadth first traversal. If you want additional practice, try other forms of traversal."
   ]
  },
  {
   "cell_type": "code",
   "execution_count": 15,
   "metadata": {},
   "outputs": [
    {
     "name": "stdout",
     "output_type": "stream",
     "text": [
      "Level Order Traversal of binary tree is -\n",
      "1\n",
      "2\n",
      "3\n",
      "4\n",
      "5\n",
      "1\n",
      "89\n",
      "56\n",
      "99\n",
      "78\n",
      "6677\n",
      "77\n",
      "9999\n",
      "878\n",
      "10101\n",
      "None\n"
     ]
    }
   ],
   "source": [
    "# A node structure \n",
    "class Node: \n",
    "    # A utility function to create a new node \n",
    "    def __init__(self ,key): \n",
    "        self.data = key \n",
    "        self.left = None\n",
    "        self.right = None\n",
    "  \n",
    "# Iterative Method to print the height of binary tree \n",
    "def printLevelOrder(root): \n",
    "    # Base Case \n",
    "    if root is None: \n",
    "        return\n",
    "      \n",
    "    # Create an empty queue for level order traversal \n",
    "    queue = [] \n",
    "  \n",
    "    # Enqueue Root and initialize height \n",
    "    queue.append(root) \n",
    "  \n",
    "    while(len(queue) > 0): \n",
    "        # Print front of queue and remove it from queue \n",
    "        print(queue[0].data), \n",
    "        node = queue.pop(0) \n",
    "  \n",
    "        #Enqueue left child \n",
    "        if node.left is not None: \n",
    "            queue.append(node.left) \n",
    "  \n",
    "        # Enqueue right child \n",
    "        if node.right is not None: \n",
    "            queue.append(node.right) \n",
    "  \n",
    "#Driver Program to test above function \n",
    "root = Node(1) \n",
    "root.left = Node(2) \n",
    "root.right = Node(3) \n",
    "root.left.left = Node(4) \n",
    "root.left.right = Node(5)\n",
    "root.right.left = Node(1)\n",
    "root.right.right = Node(89)\n",
    "root.left.left.left = Node(56)\n",
    "root.left.left.right = Node(99)\n",
    "root.left.right.left = Node(78)\n",
    "root.left.right.right = Node(6677)\n",
    "root.right.left.left = Node(77)\n",
    "root.right.left.right = Node(9999)\n",
    "root.right.right.left = Node(878)\n",
    "root.right.right.right = Node(10101)\n",
    "\n",
    "print(\"Level Order Traversal of binary tree is -\")\n",
    "print(printLevelOrder(root))"
   ]
  },
  {
   "cell_type": "code",
   "execution_count": null,
   "metadata": {},
   "outputs": [],
   "source": []
  }
 ],
 "metadata": {
  "kernelspec": {
   "display_name": "Python 3",
   "language": "python",
   "name": "python3"
  },
  "language_info": {
   "codemirror_mode": {
    "name": "ipython",
    "version": 3
   },
   "file_extension": ".py",
   "mimetype": "text/x-python",
   "name": "python",
   "nbconvert_exporter": "python",
   "pygments_lexer": "ipython3",
   "version": "3.7.2"
  }
 },
 "nbformat": 4,
 "nbformat_minor": 2
}
