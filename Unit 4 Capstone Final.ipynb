{
 "cells": [
  {
   "cell_type": "code",
   "execution_count": 1,
   "metadata": {},
   "outputs": [],
   "source": [
    "import numpy as np\n",
    "import pandas as pd\n",
    "import scipy\n",
    "import sklearn\n",
    "from sklearn import ensemble\n",
    "import spacy\n",
    "import matplotlib.pyplot as plt\n",
    "import seaborn as sns\n",
    "import re\n",
    "from collections import Counter\n",
    "import nltk as nltk\n",
    "from nltk.corpus import inaugural, stopwords\n",
    "from nltk.corpus import PlaintextCorpusReader\n",
    "from sklearn.model_selection import train_test_split\n",
    "from sklearn.model_selection import cross_val_score\n",
    "from sklearn.feature_extraction.text import TfidfTransformer\n",
    "from sklearn.feature_extraction.text import CountVectorizer\n",
    "from sklearn.feature_extraction.text import TfidfVectorizer\n",
    "from sklearn.cluster import MiniBatchKMeans\n",
    "from sklearn.decomposition import PCA\n",
    "from sklearn.manifold import TSNE\n",
    "import matplotlib.pyplot as plt\n",
    "import matplotlib.cm as cm\n",
    "%matplotlib inline"
   ]
  },
  {
   "cell_type": "markdown",
   "metadata": {},
   "source": [
    "# Description and Purpose of Assignment"
   ]
  },
  {
   "cell_type": "markdown",
   "metadata": {},
   "source": [
    "The purpose of this assignment is to apply the methods learned in Unit 4.\n",
    "\n",
    "The assignment is to analyze and compare text from 10 different authors that share a relationship with one another. For this assignment we will be analyzing Innaguration speaches from 10 different US presidents who held office for two terms. \n",
    "\n",
    "The part of the assignment is to use analyze the text of these authors and use the clustering techniques learned in Unit 4 to create a series of clusters. We will try a number of clustering techniques and pick the one we think best represents your data. We will then see if the authors are consistently grouped into the same cluster.\n",
    "\n",
    "Next, we will perform some unsupervised feature generation and selection using the techniques covered in this unit and elsewhere in the course. Using those features we will build models to attempt to classify your texts by author. Try different permutations of unsupervised and supervised techniques to see which combinations have the best performance.\n",
    "\n",
    "Lastly return to our holdout group and see if our clustering on those members perform as you'd expected. If there is a divergence in the relative stability of your model and your clusters, we will delve into why."
   ]
  },
  {
   "cell_type": "markdown",
   "metadata": {},
   "source": [
    "# Description of the Corpus "
   ]
  },
  {
   "cell_type": "markdown",
   "metadata": {},
   "source": [
    "For this assignment I chose to use the innaugartion speeches in the NLTK corpus. I chose ten innaguartion speeches from the past ten presidents that held atleast two terms in office. I chose to use each of these president's speech from their first innauguration. "
   ]
  },
  {
   "cell_type": "markdown",
   "metadata": {},
   "source": [
    "# Cleaning the Data"
   ]
  },
  {
   "cell_type": "code",
   "execution_count": 2,
   "metadata": {},
   "outputs": [],
   "source": [
    "# Load the speaches I want to analyze\n",
    "\n",
    "obama = inaugural.raw('2009-Obama.txt')\n",
    "bush = inaugural.raw('2001-Bush.txt')\n",
    "clinton = inaugural.raw('1993-Clinton.txt')\n",
    "reagan = inaugural.raw('1981-Reagan.txt')\n",
    "nixon = inaugural.raw('1969-Nixon.txt')\n",
    "eisenhower = inaugural.raw('1953-Eisenhower.txt')\n",
    "roosevelt = inaugural.raw('1933-Roosevelt.txt')\n",
    "wilson = inaugural.raw('1913-Wilson.txt')\n",
    "mckinley = inaugural.raw('1897-McKinley.txt')\n",
    "cleveland = inaugural.raw( '1885-Cleveland.txt')"
   ]
  },
  {
   "cell_type": "code",
   "execution_count": 3,
   "metadata": {},
   "outputs": [],
   "source": [
    "# Remove newlines and other extra whitespace by splitting and rejoining.\n",
    "obama = ' '.join(obama.split())\n",
    "bush = ' '.join(bush.split())\n",
    "clinton = ' '.join(clinton.split())\n",
    "reagan = ' '.join(reagan.split())\n",
    "nixon = ' '.join(nixon.split())\n",
    "eisenhower = ' '.join(eisenhower.split())\n",
    "roosevelt = ' '.join(roosevelt.split())\n",
    "wilson = ' '.join(wilson.split())\n",
    "mckinley = ' '.join(mckinley.split())\n",
    "cleveland = ' '.join(cleveland.split())\n"
   ]
  },
  {
   "cell_type": "code",
   "execution_count": 4,
   "metadata": {},
   "outputs": [],
   "source": [
    "#Create text cleaner function\n",
    "def text_cleaner(text):\n",
    "    # Visual inspection identifies a form of punctuation spaCy does not\n",
    "    # recognize: the double dash '--'.  Better get rid of it now!\n",
    "    text = re.sub(r'--',' ',text)\n",
    "    text = re.sub(\"[\\[].*?[\\]]\", \"\", text)\n",
    "    text = ' '.join(text.split())\n",
    "    text = text.lower()\n",
    "    return text"
   ]
  },
  {
   "cell_type": "code",
   "execution_count": 5,
   "metadata": {},
   "outputs": [],
   "source": [
    "# clean the speechs\n",
    "obama = text_cleaner(obama)\n",
    "bush = text_cleaner(bush)\n",
    "clinton  = text_cleaner(clinton)\n",
    "reagan = text_cleaner(reagan)\n",
    "nixon = text_cleaner(nixon)\n",
    "eisenhower = text_cleaner(eisenhower)\n",
    "roosevelt = text_cleaner(roosevelt)\n",
    "wilson = text_cleaner(wilson)\n",
    "mckinley = text_cleaner(mckinley)\n",
    "cleveland = text_cleaner(cleveland)"
   ]
  },
  {
   "cell_type": "code",
   "execution_count": 7,
   "metadata": {},
   "outputs": [],
   "source": [
    "#Load spacy and use it to clean and process the data\n",
    "nlp = spacy.load(\"en_core_web_sm\")\n",
    "\n",
    "# All the processing work is done here, so it may take a while.\n",
    "obama_doc = nlp(obama)\n",
    "bush_doc = nlp(bush)\n",
    "clinton_doc = nlp(clinton)\n",
    "reagan_doc = nlp(reagan)\n",
    "nixon_doc = nlp(nixon)\n",
    "eisenhower_doc = nlp(eisenhower)\n",
    "roosevelt_doc = nlp(roosevelt)\n",
    "wilson_doc = nlp(wilson)\n",
    "mckinley_doc = nlp(mckinley)\n",
    "cleveland_doc = nlp(cleveland)"
   ]
  },
  {
   "cell_type": "code",
   "execution_count": 8,
   "metadata": {},
   "outputs": [
    {
     "name": "stdout",
     "output_type": "stream",
     "text": [
      "['day', 'gather', 'choose', 'hope', 'fear', 'unity', 'purpose', 'conflict', 'discord']\n",
      "We have 982 sentences\n"
     ]
    }
   ],
   "source": [
    "# Organize the parsed doc into sentences, while filtering out punctuation\n",
    "# and stop words, and converting words to lower case lemmas.\n",
    "sentences = []\n",
    "for sentence in obama_doc.sents:\n",
    "    sentence = [\n",
    "        token.lemma_.lower()\n",
    "        for token in sentence\n",
    "        if not token.is_stop\n",
    "        and not token.is_punct\n",
    "    ]\n",
    "    sentences.append(sentence)\n",
    "    \n",
    "for sentence in bush_doc.sents:\n",
    "    sentence = [\n",
    "        token.lemma_.lower()\n",
    "        for token in sentence\n",
    "        if not token.is_stop\n",
    "        and not token.is_punct\n",
    "    ]\n",
    "    sentences.append(sentence)\n",
    "    \n",
    "for sentence in clinton_doc.sents:\n",
    "    sentence = [\n",
    "        token.lemma_.lower()\n",
    "        for token in sentence\n",
    "        if not token.is_stop\n",
    "        and not token.is_punct\n",
    "    ]\n",
    "    sentences.append(sentence)\n",
    "\n",
    "for sentence in reagan_doc.sents:\n",
    "    sentence = [\n",
    "        token.lemma_.lower()\n",
    "        for token in sentence\n",
    "        if not token.is_stop\n",
    "        and not token.is_punct\n",
    "    ]\n",
    "    sentences.append(sentence)\n",
    "    \n",
    "for sentence in nixon_doc.sents:\n",
    "    sentence = [\n",
    "        token.lemma_.lower()\n",
    "        for token in sentence\n",
    "        if not token.is_stop\n",
    "        and not token.is_punct\n",
    "    ]\n",
    "    sentences.append(sentence)\n",
    "\n",
    "for sentence in eisenhower_doc.sents:\n",
    "    sentence = [\n",
    "        token.lemma_.lower()\n",
    "        for token in sentence\n",
    "        if not token.is_stop\n",
    "        and not token.is_punct\n",
    "    ]\n",
    "    sentences.append(sentence)\n",
    "    \n",
    "for sentence in roosevelt_doc.sents:\n",
    "    sentence = [\n",
    "        token.lemma_.lower()\n",
    "        for token in sentence\n",
    "        if not token.is_stop\n",
    "        and not token.is_punct\n",
    "    ]\n",
    "    sentences.append(sentence)\n",
    "\n",
    "for sentence in wilson_doc.sents:\n",
    "    sentence = [\n",
    "        token.lemma_.lower()\n",
    "        for token in sentence\n",
    "        if not token.is_stop\n",
    "        and not token.is_punct\n",
    "    ]\n",
    "    sentences.append(sentence)\n",
    "    \n",
    "for sentence in mckinley_doc.sents:\n",
    "    sentence = [\n",
    "        token.lemma_.lower()\n",
    "        for token in sentence\n",
    "        if not token.is_stop\n",
    "        and not token.is_punct\n",
    "    ]\n",
    "    sentences.append(sentence)\n",
    "    \n",
    "    \n",
    "for sentence in cleveland_doc.sents:\n",
    "    sentence = [\n",
    "        token.lemma_.lower()\n",
    "        for token in sentence\n",
    "        if not token.is_stop\n",
    "        and not token.is_punct\n",
    "    ]\n",
    "    sentences.append(sentence)\n",
    "\n",
    "\n",
    "print(sentences[20])\n",
    "print('We have {} sentences'.format(len(sentences)))"
   ]
  },
  {
   "cell_type": "markdown",
   "metadata": {},
   "source": [
    "# Building the Model"
   ]
  },
  {
   "cell_type": "code",
   "execution_count": 9,
   "metadata": {},
   "outputs": [],
   "source": [
    "obama_sents  = [[str(sent), \"Obama\"] for sent in obama_doc.sents]\n",
    "bush_sents = [[str(sent), \"Bush\"] for sent in bush_doc.sents]\n",
    "clinton_sents = [[str(sent), \"Clinton\"] for sent in clinton_doc.sents]\n",
    "reagan_sents  = [[str(sent), \"Reagan\"] for sent in reagan_doc.sents]\n",
    "nixon_sents = [[str(sent), \"Nixon\"] for sent in nixon_doc.sents]\n",
    "eisenhower_sents = [[str(sent), \"Eisenhower\"] for sent in eisenhower_doc.sents]\n",
    "roosevelt_sents = [[str(sent), \"Roosevelt\"] for sent in roosevelt_doc.sents]\n",
    "wilson_sents = [[str(sent), \"Wilson\"] for sent in wilson_doc.sents]\n",
    "mckinley_sents = [[str(sent), \"Mckinley\"] for sent in mckinley_doc.sents]\n",
    "cleveland_sents = [[str(sent), \"Cleveland\"] for sent in cleveland_doc.sents]"
   ]
  },
  {
   "cell_type": "code",
   "execution_count": 10,
   "metadata": {},
   "outputs": [
    {
     "data": {
      "text/html": [
       "<div>\n",
       "<style scoped>\n",
       "    .dataframe tbody tr th:only-of-type {\n",
       "        vertical-align: middle;\n",
       "    }\n",
       "\n",
       "    .dataframe tbody tr th {\n",
       "        vertical-align: top;\n",
       "    }\n",
       "\n",
       "    .dataframe thead th {\n",
       "        text-align: right;\n",
       "    }\n",
       "</style>\n",
       "<table border=\"1\" class=\"dataframe\">\n",
       "  <thead>\n",
       "    <tr style=\"text-align: right;\">\n",
       "      <th></th>\n",
       "      <th>0</th>\n",
       "      <th>1</th>\n",
       "    </tr>\n",
       "  </thead>\n",
       "  <tbody>\n",
       "    <tr>\n",
       "      <th>0</th>\n",
       "      <td>my fellow citizens: i stand here today humbled...</td>\n",
       "      <td>Obama</td>\n",
       "    </tr>\n",
       "    <tr>\n",
       "      <th>1</th>\n",
       "      <td>i thank president bush for his service to our ...</td>\n",
       "      <td>Obama</td>\n",
       "    </tr>\n",
       "    <tr>\n",
       "      <th>2</th>\n",
       "      <td>forty-four americans have now taken the presid...</td>\n",
       "      <td>Obama</td>\n",
       "    </tr>\n",
       "    <tr>\n",
       "      <th>3</th>\n",
       "      <td>the words have been spoken during rising tides...</td>\n",
       "      <td>Obama</td>\n",
       "    </tr>\n",
       "    <tr>\n",
       "      <th>4</th>\n",
       "      <td>yet, every so often the oath is taken amidst g...</td>\n",
       "      <td>Obama</td>\n",
       "    </tr>\n",
       "  </tbody>\n",
       "</table>\n",
       "</div>"
      ],
      "text/plain": [
       "                                                   0      1\n",
       "0  my fellow citizens: i stand here today humbled...  Obama\n",
       "1  i thank president bush for his service to our ...  Obama\n",
       "2  forty-four americans have now taken the presid...  Obama\n",
       "3  the words have been spoken during rising tides...  Obama\n",
       "4  yet, every so often the oath is taken amidst g...  Obama"
      ]
     },
     "execution_count": 10,
     "metadata": {},
     "output_type": "execute_result"
    }
   ],
   "source": [
    "# Combine the sentences from the two novels into one data frame.\n",
    "sentences = pd.DataFrame(obama_sents + bush_sents + clinton_sents\n",
    "                        + reagan_sents + nixon_sents + eisenhower_sents\n",
    "                        + roosevelt_sents + wilson_sents + mckinley_sents\n",
    "                        + cleveland_sents)\n",
    "sentences.head()"
   ]
  },
  {
   "cell_type": "code",
   "execution_count": 11,
   "metadata": {},
   "outputs": [
    {
     "data": {
      "text/html": [
       "<div>\n",
       "<style scoped>\n",
       "    .dataframe tbody tr th:only-of-type {\n",
       "        vertical-align: middle;\n",
       "    }\n",
       "\n",
       "    .dataframe tbody tr th {\n",
       "        vertical-align: top;\n",
       "    }\n",
       "\n",
       "    .dataframe thead th {\n",
       "        text-align: right;\n",
       "    }\n",
       "</style>\n",
       "<table border=\"1\" class=\"dataframe\">\n",
       "  <thead>\n",
       "    <tr style=\"text-align: right;\">\n",
       "      <th></th>\n",
       "      <th>sentence</th>\n",
       "      <th>author</th>\n",
       "    </tr>\n",
       "  </thead>\n",
       "  <tbody>\n",
       "    <tr>\n",
       "      <th>0</th>\n",
       "      <td>my fellow citizens: i stand here today humbled...</td>\n",
       "      <td>Obama</td>\n",
       "    </tr>\n",
       "    <tr>\n",
       "      <th>1</th>\n",
       "      <td>i thank president bush for his service to our ...</td>\n",
       "      <td>Obama</td>\n",
       "    </tr>\n",
       "    <tr>\n",
       "      <th>2</th>\n",
       "      <td>forty-four americans have now taken the presid...</td>\n",
       "      <td>Obama</td>\n",
       "    </tr>\n",
       "    <tr>\n",
       "      <th>3</th>\n",
       "      <td>the words have been spoken during rising tides...</td>\n",
       "      <td>Obama</td>\n",
       "    </tr>\n",
       "    <tr>\n",
       "      <th>4</th>\n",
       "      <td>yet, every so often the oath is taken amidst g...</td>\n",
       "      <td>Obama</td>\n",
       "    </tr>\n",
       "  </tbody>\n",
       "</table>\n",
       "</div>"
      ],
      "text/plain": [
       "                                            sentence author\n",
       "0  my fellow citizens: i stand here today humbled...  Obama\n",
       "1  i thank president bush for his service to our ...  Obama\n",
       "2  forty-four americans have now taken the presid...  Obama\n",
       "3  the words have been spoken during rising tides...  Obama\n",
       "4  yet, every so often the oath is taken amidst g...  Obama"
      ]
     },
     "execution_count": 11,
     "metadata": {},
     "output_type": "execute_result"
    }
   ],
   "source": [
    "sentences = sentences.rename({0:'sentence', 1:'author'}, axis=1)\n",
    "sentences.head()"
   ]
  },
  {
   "cell_type": "code",
   "execution_count": 12,
   "metadata": {},
   "outputs": [],
   "source": [
    "# Use Train Test Split to test the model on 75% of the data and creating a holdout group of 25%. \n",
    "from sklearn.model_selection import train_test_split\n",
    "X = sentences.sentence\n",
    "y = sentences.author\n",
    "X_train, X_test, y_train, y_test = train_test_split(X, y, test_size=0.25, stratify=y, random_state=3)\n",
    "\n"
   ]
  },
  {
   "cell_type": "code",
   "execution_count": 13,
   "metadata": {},
   "outputs": [],
   "source": [
    "# Use the TFIDF Vectorizer to transform the text\n",
    "tfidf = TfidfVectorizer(\n",
    "    min_df = 5,\n",
    "    max_df = 0.95,\n",
    "    max_features = 8000,\n",
    "    stop_words = 'english'\n",
    ")\n",
    "tfidf.fit(X_train)\n",
    "text = tfidf.transform(X_train)"
   ]
  },
  {
   "cell_type": "code",
   "execution_count": 14,
   "metadata": {},
   "outputs": [
    {
     "name": "stdout",
     "output_type": "stream",
     "text": [
      "Fit 2 clusters\n",
      "Fit 4 clusters\n",
      "Fit 6 clusters\n",
      "Fit 8 clusters\n",
      "Fit 10 clusters\n",
      "Fit 12 clusters\n",
      "Fit 14 clusters\n",
      "Fit 16 clusters\n",
      "Fit 18 clusters\n",
      "Fit 20 clusters\n"
     ]
    },
    {
     "data": {
      "image/png": "[encoded data removed]",
      "text/plain": [
       "<Figure size 432x288 with 1 Axes>"
      ]
     },
     "metadata": {
      "needs_background": "light"
     },
     "output_type": "display_data"
    }
   ],
   "source": [
    "#Create a function using MiniBatchKmeans to determine the optimal amount of Clusters\n",
    "def find_optimal_clusters(data, max_k):\n",
    "    iters = range(2, max_k+1, 2)\n",
    "    \n",
    "    sse = []\n",
    "    for k in iters:\n",
    "        sse.append(MiniBatchKMeans(n_clusters=k, init_size=1000, batch_size=250, random_state=22).fit(data).inertia_)\n",
    "        print('Fit {} clusters'.format(k))\n",
    "        \n",
    "    f, ax = plt.subplots(1, 1)\n",
    "    ax.plot(iters, sse, marker='o')\n",
    "    ax.set_xlabel('Cluster Centers')\n",
    "    ax.set_xticks(iters)\n",
    "    ax.set_xticklabels(iters)\n",
    "    ax.set_ylabel('SSE')\n",
    "    ax.set_title('SSE by Cluster Center Plot')\n",
    "    \n",
    "find_optimal_clusters(text, 20)"
   ]
  },
  {
   "cell_type": "markdown",
   "metadata": {},
   "source": [
    "Using the Find_Optimal_Clusters function we created, we can see that the optimal number of clusters for our expirment is 18.\n"
   ]
  },
  {
   "cell_type": "code",
   "execution_count": 15,
   "metadata": {},
   "outputs": [],
   "source": [
    "clusters = MiniBatchKMeans(n_clusters=18, init_size=1000, batch_size=250, random_state=22).fit_predict(text)"
   ]
  },
  {
   "cell_type": "code",
   "execution_count": 16,
   "metadata": {},
   "outputs": [
    {
     "data": {
      "text/html": [
       "<div>\n",
       "<style scoped>\n",
       "    .dataframe tbody tr th:only-of-type {\n",
       "        vertical-align: middle;\n",
       "    }\n",
       "\n",
       "    .dataframe tbody tr th {\n",
       "        vertical-align: top;\n",
       "    }\n",
       "\n",
       "    .dataframe thead th {\n",
       "        text-align: right;\n",
       "    }\n",
       "</style>\n",
       "<table border=\"1\" class=\"dataframe\">\n",
       "  <thead>\n",
       "    <tr style=\"text-align: right;\">\n",
       "      <th></th>\n",
       "      <th>Sentence</th>\n",
       "      <th>Author</th>\n",
       "    </tr>\n",
       "  </thead>\n",
       "  <tbody>\n",
       "    <tr>\n",
       "      <th>726</th>\n",
       "      <td>we aim at the assurance of a rounded and perma...</td>\n",
       "      <td>Roosevelt</td>\n",
       "    </tr>\n",
       "    <tr>\n",
       "      <th>161</th>\n",
       "      <td>we will build our defenses beyond challenge, l...</td>\n",
       "      <td>Bush</td>\n",
       "    </tr>\n",
       "    <tr>\n",
       "      <th>277</th>\n",
       "      <td>now we must do the work the season demands.</td>\n",
       "      <td>Clinton</td>\n",
       "    </tr>\n",
       "    <tr>\n",
       "      <th>87</th>\n",
       "      <td>for as much as government can do and must do, ...</td>\n",
       "      <td>Obama</td>\n",
       "    </tr>\n",
       "    <tr>\n",
       "      <th>193</th>\n",
       "      <td>what you do is as important as anything govern...</td>\n",
       "      <td>Bush</td>\n",
       "    </tr>\n",
       "  </tbody>\n",
       "</table>\n",
       "</div>"
      ],
      "text/plain": [
       "                                              Sentence     Author\n",
       "726  we aim at the assurance of a rounded and perma...  Roosevelt\n",
       "161  we will build our defenses beyond challenge, l...       Bush\n",
       "277        now we must do the work the season demands.    Clinton\n",
       "87   for as much as government can do and must do, ...      Obama\n",
       "193  what you do is as important as anything govern...       Bush"
      ]
     },
     "execution_count": 16,
     "metadata": {},
     "output_type": "execute_result"
    }
   ],
   "source": [
    "#Create a Dataframe of the X train and Y train data. \n",
    "\n",
    "sentences_train = pd.DataFrame(columns = ['Sentence', 'Author'])\n",
    "\n",
    "sentences_train['Sentence'] = X_train\n",
    "sentences_train['Author'] = y_train\n",
    "sentences_train.head()"
   ]
  },
  {
   "cell_type": "code",
   "execution_count": 17,
   "metadata": {},
   "outputs": [
    {
     "name": "stdout",
     "output_type": "stream",
     "text": [
      "Sentence, Author and Cluster\n"
     ]
    },
    {
     "data": {
      "text/html": [
       "<div>\n",
       "<style scoped>\n",
       "    .dataframe tbody tr th:only-of-type {\n",
       "        vertical-align: middle;\n",
       "    }\n",
       "\n",
       "    .dataframe tbody tr th {\n",
       "        vertical-align: top;\n",
       "    }\n",
       "\n",
       "    .dataframe thead th {\n",
       "        text-align: right;\n",
       "    }\n",
       "</style>\n",
       "<table border=\"1\" class=\"dataframe\">\n",
       "  <thead>\n",
       "    <tr style=\"text-align: right;\">\n",
       "      <th></th>\n",
       "      <th>Sentence</th>\n",
       "      <th>Author</th>\n",
       "      <th>Cluster</th>\n",
       "    </tr>\n",
       "  </thead>\n",
       "  <tbody>\n",
       "    <tr>\n",
       "      <th>0</th>\n",
       "      <td>we aim at the assurance of a rounded and perma...</td>\n",
       "      <td>Roosevelt</td>\n",
       "      <td>12</td>\n",
       "    </tr>\n",
       "    <tr>\n",
       "      <th>1</th>\n",
       "      <td>we will build our defenses beyond challenge, l...</td>\n",
       "      <td>Bush</td>\n",
       "      <td>8</td>\n",
       "    </tr>\n",
       "    <tr>\n",
       "      <th>2</th>\n",
       "      <td>now we must do the work the season demands.</td>\n",
       "      <td>Clinton</td>\n",
       "      <td>8</td>\n",
       "    </tr>\n",
       "    <tr>\n",
       "      <th>3</th>\n",
       "      <td>for as much as government can do and must do, ...</td>\n",
       "      <td>Obama</td>\n",
       "      <td>1</td>\n",
       "    </tr>\n",
       "    <tr>\n",
       "      <th>4</th>\n",
       "      <td>what you do is as important as anything govern...</td>\n",
       "      <td>Bush</td>\n",
       "      <td>1</td>\n",
       "    </tr>\n",
       "    <tr>\n",
       "      <th>5</th>\n",
       "      <td>and though it requires sacrifice, it brings a ...</td>\n",
       "      <td>Bush</td>\n",
       "      <td>8</td>\n",
       "    </tr>\n",
       "    <tr>\n",
       "      <th>6</th>\n",
       "      <td>equally, we need for these same farms and fact...</td>\n",
       "      <td>Eisenhower</td>\n",
       "      <td>8</td>\n",
       "    </tr>\n",
       "    <tr>\n",
       "      <th>7</th>\n",
       "      <td>freedom and the dignity of the individual have...</td>\n",
       "      <td>Reagan</td>\n",
       "      <td>8</td>\n",
       "    </tr>\n",
       "    <tr>\n",
       "      <th>8</th>\n",
       "      <td>can we solve the problems confronting us?</td>\n",
       "      <td>Reagan</td>\n",
       "      <td>8</td>\n",
       "    </tr>\n",
       "    <tr>\n",
       "      <th>9</th>\n",
       "      <td>we will strive to listen in new ways to the vo...</td>\n",
       "      <td>Nixon</td>\n",
       "      <td>8</td>\n",
       "    </tr>\n",
       "    <tr>\n",
       "      <th>10</th>\n",
       "      <td>we feel this moral strength because we know th...</td>\n",
       "      <td>Eisenhower</td>\n",
       "      <td>4</td>\n",
       "    </tr>\n",
       "    <tr>\n",
       "      <th>11</th>\n",
       "      <td>government can and must provide opportunity, n...</td>\n",
       "      <td>Reagan</td>\n",
       "      <td>1</td>\n",
       "    </tr>\n",
       "    <tr>\n",
       "      <th>12</th>\n",
       "      <td>it is our faith in the deathless dignity of ma...</td>\n",
       "      <td>Eisenhower</td>\n",
       "      <td>6</td>\n",
       "    </tr>\n",
       "    <tr>\n",
       "      <th>13</th>\n",
       "      <td>we have given freedom new reach, and we have b...</td>\n",
       "      <td>Nixon</td>\n",
       "      <td>4</td>\n",
       "    </tr>\n",
       "    <tr>\n",
       "      <th>14</th>\n",
       "      <td>to a crisis of the spirit, we need an answer o...</td>\n",
       "      <td>Nixon</td>\n",
       "      <td>8</td>\n",
       "    </tr>\n",
       "    <tr>\n",
       "      <th>15</th>\n",
       "      <td>our democratic faith is more than the creed of...</td>\n",
       "      <td>Bush</td>\n",
       "      <td>10</td>\n",
       "    </tr>\n",
       "    <tr>\n",
       "      <th>16</th>\n",
       "      <td>recognition of the falsity of material wealth ...</td>\n",
       "      <td>Roosevelt</td>\n",
       "      <td>8</td>\n",
       "    </tr>\n",
       "    <tr>\n",
       "      <th>17</th>\n",
       "      <td>it is the kindness to take in a stranger when ...</td>\n",
       "      <td>Obama</td>\n",
       "      <td>8</td>\n",
       "    </tr>\n",
       "    <tr>\n",
       "      <th>18</th>\n",
       "      <td>the lesson of past agony is that without the p...</td>\n",
       "      <td>Nixon</td>\n",
       "      <td>12</td>\n",
       "    </tr>\n",
       "    <tr>\n",
       "      <th>19</th>\n",
       "      <td>more important, a host of unemployed citizens ...</td>\n",
       "      <td>Roosevelt</td>\n",
       "      <td>16</td>\n",
       "    </tr>\n",
       "  </tbody>\n",
       "</table>\n",
       "</div>"
      ],
      "text/plain": [
       "                                             Sentence      Author  Cluster\n",
       "0   we aim at the assurance of a rounded and perma...   Roosevelt       12\n",
       "1   we will build our defenses beyond challenge, l...        Bush        8\n",
       "2         now we must do the work the season demands.     Clinton        8\n",
       "3   for as much as government can do and must do, ...       Obama        1\n",
       "4   what you do is as important as anything govern...        Bush        1\n",
       "5   and though it requires sacrifice, it brings a ...        Bush        8\n",
       "6   equally, we need for these same farms and fact...  Eisenhower        8\n",
       "7   freedom and the dignity of the individual have...      Reagan        8\n",
       "8           can we solve the problems confronting us?      Reagan        8\n",
       "9   we will strive to listen in new ways to the vo...       Nixon        8\n",
       "10  we feel this moral strength because we know th...  Eisenhower        4\n",
       "11  government can and must provide opportunity, n...      Reagan        1\n",
       "12  it is our faith in the deathless dignity of ma...  Eisenhower        6\n",
       "13  we have given freedom new reach, and we have b...       Nixon        4\n",
       "14  to a crisis of the spirit, we need an answer o...       Nixon        8\n",
       "15  our democratic faith is more than the creed of...        Bush       10\n",
       "16  recognition of the falsity of material wealth ...   Roosevelt        8\n",
       "17  it is the kindness to take in a stranger when ...       Obama        8\n",
       "18  the lesson of past agony is that without the p...       Nixon       12\n",
       "19  more important, a host of unemployed citizens ...   Roosevelt       16"
      ]
     },
     "execution_count": 17,
     "metadata": {},
     "output_type": "execute_result"
    }
   ],
   "source": [
    "# Match the Sentences and Author to the corresponding clusters\n",
    "\n",
    "idea={'Sentence':list(sentences_train['Sentence']), 'Author':list(sentences_train['Author']),'Cluster':clusters} #Creating dict having doc with the corresponding cluster number.\n",
    "frame=pd.DataFrame(idea, columns=['Sentence', 'Author', 'Cluster']) # Converting it into a dataframe.\n",
    "\n",
    "print(\"Sentence, Author and Cluster\")\n",
    "frame.head(20) #Print the doc with the labeled cluster number.\n"
   ]
  },
  {
   "cell_type": "code",
   "execution_count": 22,
   "metadata": {},
   "outputs": [
    {
     "name": "stdout",
     "output_type": "stream",
     "text": [
      "Number of Sentences Per Cluster\n",
      "8     263\n",
      "4      59\n",
      "7      44\n",
      "1      39\n",
      "0      34\n",
      "6      32\n",
      "3      30\n",
      "15     30\n",
      "17     29\n",
      "13     28\n",
      "5      26\n",
      "9      23\n",
      "16     21\n",
      "10     20\n",
      "2      19\n",
      "12     18\n",
      "14     12\n",
      "11      9\n",
      "Name: Cluster, dtype: int64\n"
     ]
    }
   ],
   "source": [
    "#Find out how many sentences are in each cluster\n",
    "print(\"Number of Sentences Per Cluster\")\n",
    "print(frame['Cluster'].value_counts()) #Print the counts of doc belonging to each cluster"
   ]
  },
  {
   "cell_type": "markdown",
   "metadata": {},
   "source": [
    "## Observation\n",
    "\n",
    "As we can see, the majority of the sentences (263) are classified in cluster 8. The remaining 17 clusters contain between 9 and 59 sentences."
   ]
  },
  {
   "cell_type": "markdown",
   "metadata": {},
   "source": [
    "# Plotting the Clusters"
   ]
  },
  {
   "cell_type": "markdown",
   "metadata": {},
   "source": [
    "Now we will use PCA andd TSNE to plot the clusters."
   ]
  },
  {
   "cell_type": "code",
   "execution_count": 19,
   "metadata": {},
   "outputs": [
    {
     "data": {
      "image/png": "[encoded data removed]",
      "text/plain": [
       "<Figure size 1008x432 with 2 Axes>"
      ]
     },
     "metadata": {
      "needs_background": "light"
     },
     "output_type": "display_data"
    }
   ],
   "source": [
    "def plot_tsne_pca(data, labels):\n",
    "    max_label = max(labels)\n",
    "    max_items = np.random.choice(range(data.shape[0]), size=500, replace=False)\n",
    "    \n",
    "    pca = PCA(n_components=18).fit_transform(data[max_items,:].todense())\n",
    "    tsne = TSNE().fit_transform(PCA(n_components=18).fit_transform(data[max_items,:].todense()))\n",
    "    \n",
    "    \n",
    "    idx = np.random.choice(range(pca.shape[0]), size=200, replace=False)\n",
    "    label_subset = labels[max_items]\n",
    "    label_subset = [cm.hsv(i/max_label) for i in label_subset[idx]]\n",
    "    \n",
    "    f, ax = plt.subplots(1, 2, figsize=(14, 6))\n",
    "    \n",
    "    ax[0].scatter(pca[idx, 0], pca[idx, 1], c=label_subset)\n",
    "    ax[0].set_title('PCA Cluster Plot')\n",
    "    \n",
    "    ax[1].scatter(tsne[idx, 0], tsne[idx, 1], c=label_subset)\n",
    "    ax[1].set_title('TSNE Cluster Plot')\n",
    "    \n",
    "plot_tsne_pca(text, clusters)"
   ]
  },
  {
   "cell_type": "markdown",
   "metadata": {},
   "source": [
    "Next let's look at the contents of each cluster andd what words each cluster contains. "
   ]
  },
  {
   "cell_type": "code",
   "execution_count": 22,
   "metadata": {},
   "outputs": [
    {
     "name": "stdout",
     "output_type": "stream",
     "text": [
      "\n",
      "Cluster 0\n",
      "moment,freedom,promise,nation,ideals,failure,american,common,life,duty\n",
      "\n",
      "Cluster 1\n",
      "currency,balance,best,credit,federal,public,form,present,people,government\n",
      "\n",
      "Cluster 2\n",
      "know,love,hopes,fail,moment,nation,thank,earth,bless,god\n",
      "\n",
      "Cluster 3\n",
      "believe,unity,small,live,means,great,century,history,government,time\n",
      "\n",
      "Cluster 4\n",
      "freedom,love,policy,does,change,power,people,country,history,world\n",
      "\n",
      "Cluster 5\n",
      "americans,renewal,question,act,celebrate,american,people,new,helped,today\n",
      "\n",
      "Cluster 6\n",
      "new,cause,dignity,father,strength,rights,fathers,faith,laws,man\n",
      "\n",
      "Cluster 7\n",
      "new,society,action,demands,meet,revenue,public,people,congress,shall\n",
      "\n",
      "Cluster 8\n",
      "answer,good,act,peace,freedom,spirit,believe,nation,americans,work\n",
      "\n",
      "Cluster 9\n",
      "hold,shall,strength,unity,faith,peoples,world,economic,men,free\n",
      "\n",
      "Cluster 10\n",
      "people,peoples,order,freedom,seek,nation,life,faith,hope,way\n",
      "\n",
      "Cluster 11\n",
      "possible,justice,hands,chief,americans,citizens,session,fellow,congress,president\n",
      "\n",
      "Cluster 12\n",
      "courage,suffer,need,people,comes,values,basic,life,simple,national\n",
      "\n",
      "Cluster 13\n",
      "responsibility,years,renew,work,know,small,world,democracy,best,america\n",
      "\n",
      "Cluster 14\n",
      "financial,years,laws,restoration,lead,longer,fact,principles,day,changes\n",
      "\n",
      "Cluster 15\n",
      "endure,essential,body,given,life,things,people,united,states,great\n",
      "\n",
      "Cluster 16\n",
      "free,work,great,law,people,fellow,face,return,important,citizens\n",
      "\n",
      "Cluster 17\n",
      "light,new,strength,peace,renew,race,strong,nations,know,let\n"
     ]
    }
   ],
   "source": [
    "def get_top_keywords(data, clusters, labels, n_terms):\n",
    "    df = pd.DataFrame(data.todense()).groupby(clusters).mean()\n",
    "    \n",
    "    for i,r in df.iterrows():\n",
    "        print('\\nCluster {}'.format(i))\n",
    "        print(','.join([labels[t] for t in np.argsort(r)[-n_terms:]]))\n",
    "            \n",
    "get_top_keywords(text, clusters, tfidf.get_feature_names(), 10)"
   ]
  },
  {
   "cell_type": "markdown",
   "metadata": {},
   "source": [
    "We can see that some of the clusters contain words that appear in other clusters. The cluster that contains the most sentences is Cluster 8. \n",
    "\n",
    "Cluster 8\n",
    "answer,good,act,peace,freedom,spirit,believe,nation,americans,work"
   ]
  },
  {
   "cell_type": "markdown",
   "metadata": {},
   "source": [
    "# Author, Sentences and Cluster\n",
    "\n",
    "Lets look at which authors sentences fell into which cluster."
   ]
  },
  {
   "cell_type": "code",
   "execution_count": 25,
   "metadata": {},
   "outputs": [
    {
     "data": {
      "text/plain": [
       "8     38\n",
       "4      7\n",
       "17     6\n",
       "13     5\n",
       "2      5\n",
       "7      4\n",
       "3      4\n",
       "0      4\n",
       "10     3\n",
       "6      3\n",
       "5      3\n",
       "16     1\n",
       "9      1\n",
       "1      1\n",
       "Name: Cluster, dtype: int64"
      ]
     },
     "execution_count": 25,
     "metadata": {},
     "output_type": "execute_result"
    }
   ],
   "source": [
    "df = frame.loc[frame['Author']=='Obama']\n",
    "df['Cluster'].value_counts()"
   ]
  },
  {
   "cell_type": "code",
   "execution_count": 26,
   "metadata": {},
   "outputs": [
    {
     "data": {
      "text/plain": [
       "8     24\n",
       "0      8\n",
       "13     7\n",
       "4      6\n",
       "16     4\n",
       "6      4\n",
       "3      4\n",
       "17     2\n",
       "14     2\n",
       "10     2\n",
       "7      2\n",
       "5      2\n",
       "2      2\n",
       "1      2\n",
       "15     1\n",
       "12     1\n",
       "Name: Cluster, dtype: int64"
      ]
     },
     "execution_count": 26,
     "metadata": {},
     "output_type": "execute_result"
    }
   ],
   "source": [
    "df = frame.loc[frame['Author']=='Bush']\n",
    "df['Cluster'].value_counts()"
   ]
  },
  {
   "cell_type": "code",
   "execution_count": 27,
   "metadata": {},
   "outputs": [
    {
     "data": {
      "text/plain": [
       "8     18\n",
       "13     9\n",
       "5      7\n",
       "4      5\n",
       "17     4\n",
       "3      4\n",
       "10     3\n",
       "16     2\n",
       "11     2\n",
       "0      2\n",
       "15     1\n",
       "12     1\n",
       "2      1\n",
       "1      1\n",
       "Name: Cluster, dtype: int64"
      ]
     },
     "execution_count": 27,
     "metadata": {},
     "output_type": "execute_result"
    }
   ],
   "source": [
    "df = frame.loc[frame['Author']=='Clinton']\n",
    "df['Cluster'].value_counts()"
   ]
  },
  {
   "cell_type": "code",
   "execution_count": 28,
   "metadata": {},
   "outputs": [
    {
     "data": {
      "text/plain": [
       "8     44\n",
       "1      8\n",
       "3      5\n",
       "12     5\n",
       "6      5\n",
       "4      4\n",
       "5      4\n",
       "16     3\n",
       "2      3\n",
       "17     3\n",
       "10     3\n",
       "13     3\n",
       "7      2\n",
       "9      2\n",
       "11     2\n",
       "14     2\n",
       "0      2\n",
       "15     1\n",
       "Name: Cluster, dtype: int64"
      ]
     },
     "execution_count": 28,
     "metadata": {},
     "output_type": "execute_result"
    }
   ],
   "source": [
    "df = frame.loc[frame['Author']=='Reagan']\n",
    "df['Cluster'].value_counts()"
   ]
  },
  {
   "cell_type": "code",
   "execution_count": 29,
   "metadata": {},
   "outputs": [
    {
     "data": {
      "text/plain": [
       "8     24\n",
       "17    11\n",
       "4      9\n",
       "6      6\n",
       "13     4\n",
       "12     4\n",
       "2      4\n",
       "7      3\n",
       "3      3\n",
       "5      2\n",
       "1      2\n",
       "0      2\n",
       "15     1\n",
       "11     1\n",
       "9      1\n",
       "Name: Cluster, dtype: int64"
      ]
     },
     "execution_count": 29,
     "metadata": {},
     "output_type": "execute_result"
    }
   ],
   "source": [
    "df = frame.loc[frame['Author']=='Nixon']\n",
    "df['Cluster'].value_counts()"
   ]
  },
  {
   "cell_type": "code",
   "execution_count": 30,
   "metadata": {},
   "outputs": [
    {
     "data": {
      "text/plain": [
       "8     29\n",
       "9     15\n",
       "4     11\n",
       "6      8\n",
       "10     6\n",
       "7      5\n",
       "0      5\n",
       "3      3\n",
       "2      3\n",
       "16     2\n",
       "14     2\n",
       "15     1\n",
       "5      1\n",
       "Name: Cluster, dtype: int64"
      ]
     },
     "execution_count": 30,
     "metadata": {},
     "output_type": "execute_result"
    }
   ],
   "source": [
    "df = frame.loc[frame['Author']=='Eisenhower']\n",
    "df['Cluster'].value_counts()"
   ]
  },
  {
   "cell_type": "code",
   "execution_count": 31,
   "metadata": {},
   "outputs": [
    {
     "data": {
      "text/plain": [
       "8     31\n",
       "12     4\n",
       "7      4\n",
       "5      4\n",
       "16     3\n",
       "15     3\n",
       "4      3\n",
       "3      3\n",
       "0      3\n",
       "10     2\n",
       "17     1\n",
       "14     1\n",
       "9      1\n",
       "1      1\n",
       "Name: Cluster, dtype: int64"
      ]
     },
     "execution_count": 31,
     "metadata": {},
     "output_type": "execute_result"
    }
   ],
   "source": [
    "df = frame.loc[frame['Author']=='Roosevelt']\n",
    "df['Cluster'].value_counts()"
   ]
  },
  {
   "cell_type": "code",
   "execution_count": 32,
   "metadata": {},
   "outputs": [
    {
     "data": {
      "text/plain": [
       "8     19\n",
       "15    10\n",
       "1      4\n",
       "0      4\n",
       "9      2\n",
       "7      2\n",
       "6      2\n",
       "17     1\n",
       "14     1\n",
       "12     1\n",
       "11     1\n",
       "10     1\n",
       "5      1\n",
       "4      1\n",
       "2      1\n",
       "Name: Cluster, dtype: int64"
      ]
     },
     "execution_count": 32,
     "metadata": {},
     "output_type": "execute_result"
    }
   ],
   "source": [
    "df = frame.loc[frame['Author']=='Wilson']\n",
    "df['Cluster'].value_counts()"
   ]
  },
  {
   "cell_type": "code",
   "execution_count": 33,
   "metadata": {},
   "outputs": [
    {
     "data": {
      "text/plain": [
       "8     24\n",
       "7     18\n",
       "1     12\n",
       "15    11\n",
       "4     11\n",
       "14     4\n",
       "3      4\n",
       "0      4\n",
       "16     3\n",
       "11     3\n",
       "6      3\n",
       "12     1\n",
       "9      1\n",
       "5      1\n",
       "Name: Cluster, dtype: int64"
      ]
     },
     "execution_count": 33,
     "metadata": {},
     "output_type": "execute_result"
    }
   ],
   "source": [
    "df = frame.loc[frame['Author']=='Mckinley']\n",
    "df['Cluster'].value_counts()"
   ]
  },
  {
   "cell_type": "code",
   "execution_count": 34,
   "metadata": {},
   "outputs": [
    {
     "data": {
      "text/plain": [
       "8     12\n",
       "1      8\n",
       "7      4\n",
       "16     3\n",
       "4      2\n",
       "17     1\n",
       "15     1\n",
       "12     1\n",
       "6      1\n",
       "5      1\n",
       "Name: Cluster, dtype: int64"
      ]
     },
     "execution_count": 34,
     "metadata": {},
     "output_type": "execute_result"
    }
   ],
   "source": [
    "df = frame.loc[frame['Author']=='Cleveland']\n",
    "df['Cluster'].value_counts()"
   ]
  },
  {
   "cell_type": "markdown",
   "metadata": {},
   "source": [
    "There is no suprise that most author's sentences fell into cluster 8."
   ]
  },
  {
   "cell_type": "markdown",
   "metadata": {},
   "source": [
    "# Back to the Holdout Group"
   ]
  },
  {
   "cell_type": "markdown",
   "metadata": {},
   "source": [
    "Now lets apply the Tfifd Vectorizer and Clustering to our Holdout group and see if we get similar groupings and words in our clusters. "
   ]
  },
  {
   "cell_type": "code",
   "execution_count": 29,
   "metadata": {},
   "outputs": [],
   "source": [
    "tfidf = TfidfVectorizer(\n",
    "    min_df = 5,\n",
    "    max_df = 0.95,\n",
    "    max_features = 8000,\n",
    "    stop_words = 'english'\n",
    ")\n",
    "tfidf.fit(X_train)\n",
    "text_train = tfidf.transform(X_train)"
   ]
  },
  {
   "cell_type": "code",
   "execution_count": 30,
   "metadata": {},
   "outputs": [],
   "source": [
    "clusters = MiniBatchKMeans(n_clusters=18, init_size=1000, batch_size=250, random_state=22).fit(text_train)"
   ]
  },
  {
   "cell_type": "code",
   "execution_count": 38,
   "metadata": {},
   "outputs": [],
   "source": [
    "tfidf_test = TfidfVectorizer(\n",
    "    min_df = 5,\n",
    "    max_df = 0.95,\n",
    "    max_features = 8000,\n",
    "    stop_words = 'english'\n",
    ")\n",
    "tfidf_test.fit(X_test)\n",
    "text_test = tfidf.transform(X_test)"
   ]
  },
  {
   "cell_type": "code",
   "execution_count": 39,
   "metadata": {},
   "outputs": [
    {
     "data": {
      "text/plain": [
       "array([ 8,  9,  8,  3,  4,  8,  8,  8,  8, 12,  9,  4,  3, 15,  4, 13,  1,\n",
       "       16,  8,  1,  3,  4, 13,  8,  8,  8, 17,  2,  8,  4, 14,  4,  8,  2,\n",
       "       13,  8,  4,  7,  1, 11, 13,  1,  8,  8,  4,  8,  0,  8, 15, 16,  8,\n",
       "        4, 13,  3,  8,  5,  8,  8,  8,  8,  8, 10,  8,  8,  7,  0, 17,  8,\n",
       "       13,  0,  8,  8, 12,  1,  3,  8, 17, 17, 17,  1,  6,  8,  5,  8,  5,\n",
       "        6,  1,  0,  8,  1,  8, 17,  8,  0,  8, 14,  1,  7, 16, 15, 13,  4,\n",
       "        8,  8,  8,  8,  0,  3, 13,  4,  8,  8,  7,  4, 13,  8,  8,  7,  2,\n",
       "       11, 15,  8,  8,  8,  8,  8,  8, 16,  8, 16,  8,  8, 13,  8,  4,  8,\n",
       "       15,  3,  0,  8,  8,  1,  7,  8, 15, 16,  8,  8,  8, 14,  8,  7,  1,\n",
       "        5, 13,  1,  8,  8, 17,  1,  8,  8, 13,  0, 11,  3, 16,  9,  0,  8,\n",
       "        4,  0,  8,  8,  9,  2, 12,  8,  8,  0, 11,  4,  8,  0,  6,  8,  8,\n",
       "        8, 13,  8, 13,  8,  8, 16,  8,  2, 15,  8,  8,  8,  8,  8,  8,  1,\n",
       "        0,  3,  8,  8,  8,  6,  7, 11,  7,  8,  8,  8,  0,  0, 10,  4,  4,\n",
       "       14,  8,  8,  8,  4,  7,  8,  8,  8,  8,  8,  4,  8,  8,  4, 15, 11,\n",
       "        8,  8, 12,  4,  2,  5,  4,  8], dtype=int32)"
      ]
     },
     "execution_count": 39,
     "metadata": {},
     "output_type": "execute_result"
    }
   ],
   "source": [
    "clusters.predict(text_test)"
   ]
  },
  {
   "cell_type": "code",
   "execution_count": 40,
   "metadata": {},
   "outputs": [],
   "source": [
    "sentences_test = pd.DataFrame(columns = ['Sentence', 'Author'])\n",
    "sentences_test['Sentence'] = X_test\n",
    "sentences_test['Author'] = y_test"
   ]
  },
  {
   "cell_type": "code",
   "execution_count": 41,
   "metadata": {},
   "outputs": [
    {
     "name": "stdout",
     "output_type": "stream",
     "text": [
      "Sentence, Author and Cluster\n"
     ]
    },
    {
     "data": {
      "text/html": [
       "<div>\n",
       "<style scoped>\n",
       "    .dataframe tbody tr th:only-of-type {\n",
       "        vertical-align: middle;\n",
       "    }\n",
       "\n",
       "    .dataframe tbody tr th {\n",
       "        vertical-align: top;\n",
       "    }\n",
       "\n",
       "    .dataframe thead th {\n",
       "        text-align: right;\n",
       "    }\n",
       "</style>\n",
       "<table border=\"1\" class=\"dataframe\">\n",
       "  <thead>\n",
       "    <tr style=\"text-align: right;\">\n",
       "      <th></th>\n",
       "      <th>Sentence</th>\n",
       "      <th>Author</th>\n",
       "      <th>Cluster</th>\n",
       "    </tr>\n",
       "  </thead>\n",
       "  <tbody>\n",
       "    <tr>\n",
       "      <th>0</th>\n",
       "      <td>recall that earlier generations faced down fas...</td>\n",
       "      <td>Obama</td>\n",
       "      <td>8</td>\n",
       "    </tr>\n",
       "    <tr>\n",
       "      <th>1</th>\n",
       "      <td>they tutor men in treason.</td>\n",
       "      <td>Eisenhower</td>\n",
       "      <td>9</td>\n",
       "    </tr>\n",
       "    <tr>\n",
       "      <th>2</th>\n",
       "      <td>in the light of this principle, we stand ready...</td>\n",
       "      <td>Eisenhower</td>\n",
       "      <td>8</td>\n",
       "    </tr>\n",
       "    <tr>\n",
       "      <th>3</th>\n",
       "      <td>for our own country, it has been a time of rec...</td>\n",
       "      <td>Eisenhower</td>\n",
       "      <td>3</td>\n",
       "    </tr>\n",
       "    <tr>\n",
       "      <th>4</th>\n",
       "      <td>by your gracious cooperation in the transition...</td>\n",
       "      <td>Reagan</td>\n",
       "      <td>4</td>\n",
       "    </tr>\n",
       "    <tr>\n",
       "      <th>5</th>\n",
       "      <td>they know only the rules of a generation of se...</td>\n",
       "      <td>Roosevelt</td>\n",
       "      <td>8</td>\n",
       "    </tr>\n",
       "    <tr>\n",
       "      <th>6</th>\n",
       "      <td>it knows no sectional boundaries or ethnic and...</td>\n",
       "      <td>Reagan</td>\n",
       "      <td>8</td>\n",
       "    </tr>\n",
       "    <tr>\n",
       "      <th>7</th>\n",
       "      <td>are we nearing the light a day of freedom and ...</td>\n",
       "      <td>Eisenhower</td>\n",
       "      <td>8</td>\n",
       "    </tr>\n",
       "    <tr>\n",
       "      <th>8</th>\n",
       "      <td>rather, it has been the risk-takers, the doers...</td>\n",
       "      <td>Obama</td>\n",
       "      <td>8</td>\n",
       "    </tr>\n",
       "    <tr>\n",
       "      <th>9</th>\n",
       "      <td>it can be helped by national planning for and ...</td>\n",
       "      <td>Roosevelt</td>\n",
       "      <td>12</td>\n",
       "    </tr>\n",
       "    <tr>\n",
       "      <th>10</th>\n",
       "      <td>and we find that children and community are th...</td>\n",
       "      <td>Bush</td>\n",
       "      <td>9</td>\n",
       "    </tr>\n",
       "    <tr>\n",
       "      <th>11</th>\n",
       "      <td>for all our own material might, even we need m...</td>\n",
       "      <td>Eisenhower</td>\n",
       "      <td>4</td>\n",
       "    </tr>\n",
       "    <tr>\n",
       "      <th>12</th>\n",
       "      <td>the constitution which prescribes his oath, my...</td>\n",
       "      <td>Cleveland</td>\n",
       "      <td>3</td>\n",
       "    </tr>\n",
       "    <tr>\n",
       "      <th>13</th>\n",
       "      <td>it will be my constant endeavor to secure it b...</td>\n",
       "      <td>Mckinley</td>\n",
       "      <td>15</td>\n",
       "    </tr>\n",
       "    <tr>\n",
       "      <th>14</th>\n",
       "      <td>i know this is in our reach because we are gui...</td>\n",
       "      <td>Bush</td>\n",
       "      <td>4</td>\n",
       "    </tr>\n",
       "    <tr>\n",
       "      <th>15</th>\n",
       "      <td>i know america's youth.</td>\n",
       "      <td>Nixon</td>\n",
       "      <td>13</td>\n",
       "    </tr>\n",
       "    <tr>\n",
       "      <th>16</th>\n",
       "      <td>yet compassion is the work of a nation, not ju...</td>\n",
       "      <td>Bush</td>\n",
       "      <td>1</td>\n",
       "    </tr>\n",
       "    <tr>\n",
       "      <th>17</th>\n",
       "      <td>fellow citizens, in obedience to the will of t...</td>\n",
       "      <td>Mckinley</td>\n",
       "      <td>16</td>\n",
       "    </tr>\n",
       "    <tr>\n",
       "      <th>18</th>\n",
       "      <td>society must see to it that it does not itself...</td>\n",
       "      <td>Wilson</td>\n",
       "      <td>8</td>\n",
       "    </tr>\n",
       "    <tr>\n",
       "      <th>19</th>\n",
       "      <td>what has to be done, has to be done by governm...</td>\n",
       "      <td>Nixon</td>\n",
       "      <td>1</td>\n",
       "    </tr>\n",
       "  </tbody>\n",
       "</table>\n",
       "</div>"
      ],
      "text/plain": [
       "                                             Sentence      Author  Cluster\n",
       "0   recall that earlier generations faced down fas...       Obama        8\n",
       "1                          they tutor men in treason.  Eisenhower        9\n",
       "2   in the light of this principle, we stand ready...  Eisenhower        8\n",
       "3   for our own country, it has been a time of rec...  Eisenhower        3\n",
       "4   by your gracious cooperation in the transition...      Reagan        4\n",
       "5   they know only the rules of a generation of se...   Roosevelt        8\n",
       "6   it knows no sectional boundaries or ethnic and...      Reagan        8\n",
       "7   are we nearing the light a day of freedom and ...  Eisenhower        8\n",
       "8   rather, it has been the risk-takers, the doers...       Obama        8\n",
       "9   it can be helped by national planning for and ...   Roosevelt       12\n",
       "10  and we find that children and community are th...        Bush        9\n",
       "11  for all our own material might, even we need m...  Eisenhower        4\n",
       "12  the constitution which prescribes his oath, my...   Cleveland        3\n",
       "13  it will be my constant endeavor to secure it b...    Mckinley       15\n",
       "14  i know this is in our reach because we are gui...        Bush        4\n",
       "15                            i know america's youth.       Nixon       13\n",
       "16  yet compassion is the work of a nation, not ju...        Bush        1\n",
       "17  fellow citizens, in obedience to the will of t...    Mckinley       16\n",
       "18  society must see to it that it does not itself...      Wilson        8\n",
       "19  what has to be done, has to be done by governm...       Nixon        1"
      ]
     },
     "execution_count": 41,
     "metadata": {},
     "output_type": "execute_result"
    }
   ],
   "source": [
    "idea2={'Sentence':list(sentences_test['Sentence']), 'Author':list(sentences_test['Author']),'Cluster':\n",
    "      clusters.predict(text_test)} #Creating dict having doc with the corresponding cluster number.\n",
    "frame2=pd.DataFrame(idea2, columns=['Sentence', 'Author', 'Cluster']) # Converting it into a dataframe.\n",
    "\n",
    "print(\"Sentence, Author and Cluster\")\n",
    "frame2.head(20) #Print the doc with the labeled cluster number.\n"
   ]
  },
  {
   "cell_type": "code",
   "execution_count": 42,
   "metadata": {},
   "outputs": [
    {
     "name": "stdout",
     "output_type": "stream",
     "text": [
      "Number of Sentences Per Cluster\n",
      "8     104\n",
      "4      22\n",
      "0      15\n",
      "13     14\n",
      "1      14\n",
      "7      10\n",
      "3       9\n",
      "16      8\n",
      "15      8\n",
      "17      7\n",
      "11      6\n",
      "2       6\n",
      "5       5\n",
      "14      4\n",
      "12      4\n",
      "9       4\n",
      "6       4\n",
      "10      2\n",
      "Name: Cluster, dtype: int64\n"
     ]
    }
   ],
   "source": [
    "print(\"Number of Sentences Per Cluster\")\n",
    "print(frame2['Cluster'].value_counts()) #Print the counts of doc belonging to each cluster"
   ]
  },
  {
   "cell_type": "code",
   "execution_count": 43,
   "metadata": {},
   "outputs": [
    {
     "data": {
      "image/png": "[encoded data removed]",
      "text/plain": [
       "<Figure size 1008x432 with 2 Axes>"
      ]
     },
     "metadata": {
      "needs_background": "light"
     },
     "output_type": "display_data"
    }
   ],
   "source": [
    "def plot_tsne_pca(data, labels):\n",
    "    max_label = max(labels)\n",
    "    max_items = np.random.choice(range(data.shape[0]), size=200, replace=False)\n",
    "    \n",
    "    pca = PCA(n_components=18).fit_transform(data[max_items,:].todense())\n",
    "    tsne = TSNE().fit_transform(PCA(n_components=18).fit_transform(data[max_items,:].todense()))\n",
    "    \n",
    "    \n",
    "    idx = np.random.choice(range(pca.shape[0]), size=200, replace=False)\n",
    "    label_subset = labels[max_items]\n",
    "    label_subset = [cm.hsv(i/max_label) for i in label_subset[idx]]\n",
    "    \n",
    "    f, ax = plt.subplots(1, 2, figsize=(14, 6))\n",
    "    \n",
    "    ax[0].scatter(pca[idx, 0], pca[idx, 1], c=label_subset)\n",
    "    ax[0].set_title('PCA Cluster Plot')\n",
    "    \n",
    "    ax[1].scatter(tsne[idx, 0], tsne[idx, 1], c=label_subset)\n",
    "    ax[1].set_title('TSNE Cluster Plot')\n",
    "    \n",
    "plot_tsne_pca(text_test, clusters.predict(text_test))"
   ]
  },
  {
   "cell_type": "code",
   "execution_count": 44,
   "metadata": {},
   "outputs": [
    {
     "name": "stdout",
     "output_type": "stream",
     "text": [
      "\n",
      "Cluster 0\n",
      "failure,comes,home,vision,moment,duty,common,interests,american,life\n",
      "\n",
      "Cluster 1\n",
      "greater,present,currency,continue,crisis,provide,years,support,people,government\n",
      "\n",
      "Cluster 2\n",
      "act,service,nation,things,citizen,concern,thank,ask,oath,god\n",
      "\n",
      "Cluster 3\n",
      "courage,look,trust,future,opportunity,return,trial,speak,government,time\n",
      "\n",
      "Cluster 4\n",
      "nations,nation,need,century,greater,new,power,know,country,world\n",
      "\n",
      "Cluster 5\n",
      "question,ask,care,old,america,order,earth,hope,crisis,today\n",
      "\n",
      "Cluster 6\n",
      "man,american,better,labor,greatest,constant,fathers,children,cause,laws\n",
      "\n",
      "Cluster 7\n",
      "public,united,states,spirit,necessity,leaders,congress,revenue,people,shall\n",
      "\n",
      "Cluster 8\n",
      "new,peace,just,long,service,use,seek,come,nation,economy\n",
      "\n",
      "Cluster 9\n",
      "place,cause,firm,citizen,children,policy,foreign,set,men,free\n",
      "\n",
      "Cluster 10\n",
      "fathers,father,far,faithful,faith,federal,forward,years,long,way\n",
      "\n",
      "Cluster 11\n",
      "know,begin,constitution,spirit,nation,citizens,fellow,service,thank,president\n",
      "\n",
      "Cluster 12\n",
      "essential,old,action,simple,oath,order,character,balance,helped,national\n",
      "\n",
      "Cluster 13\n",
      "pledge,lives,world,schools,life,united,renew,cause,know,america\n",
      "\n",
      "Cluster 14\n",
      "force,financial,firm,good,years,future,people,values,principles,day\n",
      "\n",
      "Cluster 15\n",
      "times,secure,called,trust,constant,use,burden,hope,live,great\n",
      "\n",
      "Cluster 16\n",
      "leaders,place,necessity,problems,united,fellow,states,power,american,citizens\n",
      "\n",
      "Cluster 17\n",
      "words,nations,face,spirit,born,look,responsibility,begin,country,let\n"
     ]
    }
   ],
   "source": [
    "clusters2 = clusters.predict(text_test)\n",
    "def get_top_keywords(data, clusters2, labels, n_terms):\n",
    "    df = pd.DataFrame(data.todense()).groupby(clusters2).mean()\n",
    "    \n",
    "    for i,r in df.iterrows():\n",
    "        print('\\nCluster {}'.format(i))\n",
    "        print(','.join([labels[t] for t in np.argsort(r)[-n_terms:]]))\n",
    "            \n",
    "get_top_keywords(text_test, clusters2, tfidf.get_feature_names(), 10)"
   ]
  },
  {
   "cell_type": "markdown",
   "metadata": {},
   "source": [
    "# Write Up"
   ]
  },
  {
   "cell_type": "markdown",
   "metadata": {},
   "source": [
    "As we can see, although the clusters in the test and train group sometimes contain the same, overall the test and train groups clusters are not similar to one another. However, it is interesting that in both the test and the train group most sentences were grouped into cluster eight, even though cluster eight was different for the test and the train group. \n",
    "\n",
    "Overall, I do not believe our model is strong enough to correctly identify the author of a given speech based on the content of the speech. The are two main reasons for this. \n",
    "\n",
    "First, because the speaches were only 90-120 sentences long, there was not enough text to give the model enough data to train on. A better way would have to loaded all the writings of these presidents and used that for model. The larger corpus would give more information for the model to analyze and work with.\n",
    "\n",
    "Second, because these were all innaguration speeches they are on the same subject and contained almost identical themes and subject matter. Because of this it is hard to distinguish one author from the other. For instance, if I used all the commencement speaches at Ivy League colleges over the past 10 years it would also be difficult to train a model to determine the author as these also contain similar themes, subject matter, and audience. \n",
    "\n",
    "# Next Steps\n",
    "\n",
    "Although this experiment did not perform well at determining which author wrote which speach, the model itself should work probably if given more information. For future explorations, I would give it a larger corpus to analyze, such as literary works from 10 different authors. \n"
   ]
  },
  {
   "cell_type": "code",
   "execution_count": null,
   "metadata": {},
   "outputs": [],
   "source": []
  }
 ],
 "metadata": {
  "kernelspec": {
   "display_name": "Python 3",
   "language": "python",
   "name": "python3"
  },
  "language_info": {
   "codemirror_mode": {
    "name": "ipython",
    "version": 3
   },
   "file_extension": ".py",
   "mimetype": "text/x-python",
   "name": "python",
   "nbconvert_exporter": "python",
   "pygments_lexer": "ipython3",
   "version": "3.7.2"
  }
 },
 "nbformat": 4,
 "nbformat_minor": 2
}
