{
 "cells": [
  {
   "cell_type": "code",
   "execution_count": 27,
   "metadata": {},
   "outputs": [],
   "source": [
    "import numpy as np\n",
    "import pandas as pd\n",
    "import re\n",
    "\n",
    "\n",
    "\n",
    "apc = pd.read_csv(\"APC_Thinkful.csv\", encoding=\"latin1\")"
   ]
  },
  {
   "cell_type": "code",
   "execution_count": null,
   "metadata": {},
   "outputs": [],
   "source": []
  },
  {
   "cell_type": "code",
   "execution_count": 28,
   "metadata": {},
   "outputs": [],
   "source": [
    "apc.columns = (['PMID/PMCID', 'publisher', 'journal_title', 'article_title', 'cost'])"
   ]
  },
  {
   "cell_type": "code",
   "execution_count": 29,
   "metadata": {},
   "outputs": [
    {
     "data": {
      "text/html": [
       "<div>\n",
       "<style scoped>\n",
       "    .dataframe tbody tr th:only-of-type {\n",
       "        vertical-align: middle;\n",
       "    }\n",
       "\n",
       "    .dataframe tbody tr th {\n",
       "        vertical-align: top;\n",
       "    }\n",
       "\n",
       "    .dataframe thead th {\n",
       "        text-align: right;\n",
       "    }\n",
       "</style>\n",
       "<table border=\"1\" class=\"dataframe\">\n",
       "  <thead>\n",
       "    <tr style=\"text-align: right;\">\n",
       "      <th></th>\n",
       "      <th>PMID/PMCID</th>\n",
       "      <th>publisher</th>\n",
       "      <th>journal_title</th>\n",
       "      <th>article_title</th>\n",
       "      <th>cost</th>\n",
       "    </tr>\n",
       "  </thead>\n",
       "  <tbody>\n",
       "    <tr>\n",
       "      <th>0</th>\n",
       "      <td>NaN</td>\n",
       "      <td>CUP</td>\n",
       "      <td>Psychological Medicine</td>\n",
       "      <td>Reduced parahippocampal cortical thickness in ...</td>\n",
       "      <td>£0.00</td>\n",
       "    </tr>\n",
       "    <tr>\n",
       "      <th>1</th>\n",
       "      <td>PMC3679557</td>\n",
       "      <td>ACS</td>\n",
       "      <td>Biomacromolecules</td>\n",
       "      <td>Structural characterization of a Model Gram-ne...</td>\n",
       "      <td>£2381.04</td>\n",
       "    </tr>\n",
       "  </tbody>\n",
       "</table>\n",
       "</div>"
      ],
      "text/plain": [
       "   PMID/PMCID publisher           journal_title  \\\n",
       "0         NaN       CUP  Psychological Medicine   \n",
       "1  PMC3679557       ACS       Biomacromolecules   \n",
       "\n",
       "                                       article_title      cost  \n",
       "0  Reduced parahippocampal cortical thickness in ...     £0.00  \n",
       "1  Structural characterization of a Model Gram-ne...  £2381.04  "
      ]
     },
     "execution_count": 29,
     "metadata": {},
     "output_type": "execute_result"
    }
   ],
   "source": [
    "apc.head(2)"
   ]
  },
  {
   "cell_type": "code",
   "execution_count": 30,
   "metadata": {},
   "outputs": [
    {
     "data": {
      "text/plain": [
       "0          £0.00\n",
       "1       £2381.04\n",
       "2        £642.56\n",
       "3        £669.64\n",
       "4        £685.88\n",
       "5       £2392.20\n",
       "6       £2367.95\n",
       "7        £649.33\n",
       "8       £1294.59\n",
       "9       £1294.78\n",
       "10      £1329.69\n",
       "11      £1287.20\n",
       "12      £1324.66\n",
       "13       £665.64\n",
       "14      £1006.72\n",
       "15       £238.08\n",
       "16       £265.67\n",
       "17      £2035.00\n",
       "18      £3108.08\n",
       "19      £1267.76\n",
       "20      £2286.73\n",
       "21       £947.07\n",
       "22      £1186.80\n",
       "23       £642.89\n",
       "24      £1533.29\n",
       "25      £2082.74\n",
       "26      £2314.10\n",
       "27       £759.67\n",
       "28      £1565.26\n",
       "29       £572.74\n",
       "          ...   \n",
       "2097    £2236.02\n",
       "2098    £2275.02\n",
       "2099    £2373.57\n",
       "2100     £791.19\n",
       "2101    £1551.49\n",
       "2102    £1961.68\n",
       "2103    £1982.35\n",
       "2104    £2239.22\n",
       "2105    £2377.65\n",
       "2106    £2272.15\n",
       "2107    £1900.70\n",
       "2108    £3026.17\n",
       "2109    £1851.15\n",
       "2110    £1812.89\n",
       "2111    £1816.70\n",
       "2112    £2168.05\n",
       "2113    £1409.96\n",
       "2114    £2400.00\n",
       "2115    £1968.63\n",
       "2116    £2015.72\n",
       "2117    £1836.92\n",
       "2118    £1836.92\n",
       "2119    £1375.80\n",
       "2120    £1836.92\n",
       "2121    £2009.65\n",
       "2122    £1334.15\n",
       "2123    £1834.77\n",
       "2124    £1834.77\n",
       "2125    £2374.52\n",
       "2126    £2034.75\n",
       "Name: cost, Length: 2127, dtype: object"
      ]
     },
     "execution_count": 30,
     "metadata": {},
     "output_type": "execute_result"
    }
   ],
   "source": [
    "apc.cost"
   ]
  },
  {
   "cell_type": "code",
   "execution_count": 61,
   "metadata": {},
   "outputs": [],
   "source": [
    "apc.cost = [x.strip('£') for x in apc.cost]\n",
    "apc.cost = [x.strip('$,%,^,!,@,#,^,&,*,(,)') for x in apc.cost]"
   ]
  },
  {
   "cell_type": "code",
   "execution_count": 62,
   "metadata": {},
   "outputs": [
    {
     "data": {
      "text/plain": [
       "0          0.00\n",
       "1       2381.04\n",
       "2        642.56\n",
       "3        669.64\n",
       "4        685.88\n",
       "5       2392.20\n",
       "6       2367.95\n",
       "7        649.33\n",
       "8       1294.59\n",
       "9       1294.78\n",
       "10      1329.69\n",
       "11      1287.20\n",
       "12      1324.66\n",
       "13       665.64\n",
       "14      1006.72\n",
       "15       238.08\n",
       "16       265.67\n",
       "17      2035.00\n",
       "18      3108.08\n",
       "19      1267.76\n",
       "20      2286.73\n",
       "21       947.07\n",
       "22      1186.80\n",
       "23       642.89\n",
       "24      1533.29\n",
       "25      2082.74\n",
       "26      2314.10\n",
       "27       759.67\n",
       "28      1565.26\n",
       "29       572.74\n",
       "         ...   \n",
       "2097    2236.02\n",
       "2098    2275.02\n",
       "2099    2373.57\n",
       "2100     791.19\n",
       "2101    1551.49\n",
       "2102    1961.68\n",
       "2103    1982.35\n",
       "2104    2239.22\n",
       "2105    2377.65\n",
       "2106    2272.15\n",
       "2107    1900.70\n",
       "2108    3026.17\n",
       "2109    1851.15\n",
       "2110    1812.89\n",
       "2111    1816.70\n",
       "2112    2168.05\n",
       "2113    1409.96\n",
       "2114    2400.00\n",
       "2115    1968.63\n",
       "2116    2015.72\n",
       "2117    1836.92\n",
       "2118    1836.92\n",
       "2119    1375.80\n",
       "2120    1836.92\n",
       "2121    2009.65\n",
       "2122    1334.15\n",
       "2123    1834.77\n",
       "2124    1834.77\n",
       "2125    2374.52\n",
       "2126    2034.75\n",
       "Name: cost, Length: 2127, dtype: object"
      ]
     },
     "execution_count": 62,
     "metadata": {},
     "output_type": "execute_result"
    }
   ],
   "source": [
    "apc.cost"
   ]
  },
  {
   "cell_type": "code",
   "execution_count": 63,
   "metadata": {},
   "outputs": [
    {
     "data": {
      "text/html": [
       "<div>\n",
       "<style scoped>\n",
       "    .dataframe tbody tr th:only-of-type {\n",
       "        vertical-align: middle;\n",
       "    }\n",
       "\n",
       "    .dataframe tbody tr th {\n",
       "        vertical-align: top;\n",
       "    }\n",
       "\n",
       "    .dataframe thead th {\n",
       "        text-align: right;\n",
       "    }\n",
       "</style>\n",
       "<table border=\"1\" class=\"dataframe\">\n",
       "  <thead>\n",
       "    <tr style=\"text-align: right;\">\n",
       "      <th></th>\n",
       "      <th>PMID/PMCID</th>\n",
       "      <th>publisher</th>\n",
       "      <th>journal_title</th>\n",
       "      <th>article_title</th>\n",
       "      <th>cost</th>\n",
       "    </tr>\n",
       "  </thead>\n",
       "  <tbody>\n",
       "    <tr>\n",
       "      <th>0</th>\n",
       "      <td>NaN</td>\n",
       "      <td>CUP</td>\n",
       "      <td>psychological medicine</td>\n",
       "      <td>Reduced parahippocampal cortical thickness in ...</td>\n",
       "      <td>0.00</td>\n",
       "    </tr>\n",
       "    <tr>\n",
       "      <th>1</th>\n",
       "      <td>PMC3679557</td>\n",
       "      <td>ACS</td>\n",
       "      <td>biomacromolecules</td>\n",
       "      <td>Structural characterization of a Model Gram-ne...</td>\n",
       "      <td>2381.04</td>\n",
       "    </tr>\n",
       "    <tr>\n",
       "      <th>2</th>\n",
       "      <td>23043264  PMC3506128</td>\n",
       "      <td>ACS</td>\n",
       "      <td>j med chem</td>\n",
       "      <td>Fumaroylamino-4,5-epoxymorphinans and related ...</td>\n",
       "      <td>642.56</td>\n",
       "    </tr>\n",
       "  </tbody>\n",
       "</table>\n",
       "</div>"
      ],
      "text/plain": [
       "              PMID/PMCID publisher           journal_title  \\\n",
       "0                    NaN       CUP  psychological medicine   \n",
       "1             PMC3679557       ACS       biomacromolecules   \n",
       "2  23043264  PMC3506128        ACS              j med chem   \n",
       "\n",
       "                                       article_title     cost  \n",
       "0  Reduced parahippocampal cortical thickness in ...     0.00  \n",
       "1  Structural characterization of a Model Gram-ne...  2381.04  \n",
       "2  Fumaroylamino-4,5-epoxymorphinans and related ...   642.56  "
      ]
     },
     "execution_count": 63,
     "metadata": {},
     "output_type": "execute_result"
    }
   ],
   "source": [
    "apc.head(3)"
   ]
  },
  {
   "cell_type": "code",
   "execution_count": 34,
   "metadata": {},
   "outputs": [
    {
     "data": {
      "text/plain": [
       "PLoS One                                                      92\n",
       "PLoS ONE                                                      62\n",
       "Journal of Biological Chemistry                               48\n",
       "Nucleic Acids Research                                        21\n",
       "Proceedings of the National Academy of Sciences               19\n",
       "Human Molecular Genetics                                      18\n",
       "PLoS Neglected Tropical Diseases                              18\n",
       "Nature Communications                                         17\n",
       "PLoS Pathogens                                                15\n",
       "PLoS Genetics                                                 15\n",
       "Neuroimage                                                    15\n",
       "PLOS ONE                                                      14\n",
       "Brain                                                         14\n",
       "NeuroImage                                                    14\n",
       "BMC Public Health                                             14\n",
       "Movement Disorders                                            13\n",
       "Biochemical Journal                                           12\n",
       "Developmental Cell                                            12\n",
       "Journal of Neuroscience                                       12\n",
       "Journal of General Virology                                   11\n",
       "PLOS One                                                      10\n",
       "BMJ                                                           10\n",
       "Current Biology                                               10\n",
       "Neuron                                                         9\n",
       "Cell Reports                                                   9\n",
       "Proceedings of the Royal Society B: Biological Sciences        8\n",
       "Journal of Physiology                                          8\n",
       "Hepatology                                                     8\n",
       "Malaria Journal                                                8\n",
       "Journal of Virology                                            8\n",
       "                                                              ..\n",
       "Cell Journal                                                   1\n",
       "Molecular Phylogenetics and Evolution                          1\n",
       "Theranostics                                                   1\n",
       "Genetics                                                       1\n",
       "Database                                                       1\n",
       "International Journal of Geriatric Psychiatry                  1\n",
       "American Journal for Clinical Nutrition                        1\n",
       "Biologicial Chemistry                                          1\n",
       "Medical Humanities                                             1\n",
       "N Biotechnol.                                                  1\n",
       "Future Microbiology                                            1\n",
       "Journal of cycstic fibrosis                                    1\n",
       "Rapid Communications in Mass Spectrometry                      1\n",
       "Metabolomics                                                   1\n",
       "Psychological Trauma: Theory research, practice and policy     1\n",
       "Clinical and Experimental Allergy                              1\n",
       "BMC Infectious diseases                                        1\n",
       "Cell Calcium                                                   1\n",
       "Environment and Planning A                                     1\n",
       "Frontiers in Neurorobotics                                     1\n",
       "J Clin Microbiol                                               1\n",
       "ACS NANO                                                       1\n",
       "BIOCHEM SOC TRANS                                              1\n",
       "Neuromuscular Disorders                                        1\n",
       "European Journal of Public Health                              1\n",
       "PLOS  ONE                                                      1\n",
       "Journal of Medicinal Chemistry                                 1\n",
       "International Journal of Parasitology                          1\n",
       "J Cardiovasc Magn Reson                                        1\n",
       "Journal of Anthropological Archaeology                         1\n",
       "Name: journal_title, Length: 984, dtype: int64"
      ]
     },
     "execution_count": 34,
     "metadata": {},
     "output_type": "execute_result"
    }
   ],
   "source": [
    "apc.journal_title.value_counts()"
   ]
  },
  {
   "cell_type": "code",
   "execution_count": 36,
   "metadata": {},
   "outputs": [],
   "source": [
    "apc.journal_title = apc.journal_title.str.lower()"
   ]
  },
  {
   "cell_type": "code",
   "execution_count": 37,
   "metadata": {},
   "outputs": [
    {
     "data": {
      "text/html": [
       "<div>\n",
       "<style scoped>\n",
       "    .dataframe tbody tr th:only-of-type {\n",
       "        vertical-align: middle;\n",
       "    }\n",
       "\n",
       "    .dataframe tbody tr th {\n",
       "        vertical-align: top;\n",
       "    }\n",
       "\n",
       "    .dataframe thead th {\n",
       "        text-align: right;\n",
       "    }\n",
       "</style>\n",
       "<table border=\"1\" class=\"dataframe\">\n",
       "  <thead>\n",
       "    <tr style=\"text-align: right;\">\n",
       "      <th></th>\n",
       "      <th>PMID/PMCID</th>\n",
       "      <th>publisher</th>\n",
       "      <th>journal_title</th>\n",
       "      <th>article_title</th>\n",
       "      <th>cost</th>\n",
       "    </tr>\n",
       "  </thead>\n",
       "  <tbody>\n",
       "    <tr>\n",
       "      <th>0</th>\n",
       "      <td>NaN</td>\n",
       "      <td>CUP</td>\n",
       "      <td>psychological medicine</td>\n",
       "      <td>Reduced parahippocampal cortical thickness in ...</td>\n",
       "      <td>0.00</td>\n",
       "    </tr>\n",
       "    <tr>\n",
       "      <th>1</th>\n",
       "      <td>PMC3679557</td>\n",
       "      <td>ACS</td>\n",
       "      <td>biomacromolecules</td>\n",
       "      <td>Structural characterization of a Model Gram-ne...</td>\n",
       "      <td>2381.04</td>\n",
       "    </tr>\n",
       "    <tr>\n",
       "      <th>2</th>\n",
       "      <td>23043264  PMC3506128</td>\n",
       "      <td>ACS</td>\n",
       "      <td>j med chem</td>\n",
       "      <td>Fumaroylamino-4,5-epoxymorphinans and related ...</td>\n",
       "      <td>642.56</td>\n",
       "    </tr>\n",
       "    <tr>\n",
       "      <th>3</th>\n",
       "      <td>23438330 PMC3646402</td>\n",
       "      <td>ACS</td>\n",
       "      <td>j med chem</td>\n",
       "      <td>Orvinols with mixed kappa/mu opioid receptor a...</td>\n",
       "      <td>669.64</td>\n",
       "    </tr>\n",
       "    <tr>\n",
       "      <th>4</th>\n",
       "      <td>23438216 PMC3601604</td>\n",
       "      <td>ACS</td>\n",
       "      <td>j org chem</td>\n",
       "      <td>Regioselective opening of myo-inositol orthoes...</td>\n",
       "      <td>685.88</td>\n",
       "    </tr>\n",
       "  </tbody>\n",
       "</table>\n",
       "</div>"
      ],
      "text/plain": [
       "              PMID/PMCID publisher           journal_title  \\\n",
       "0                    NaN       CUP  psychological medicine   \n",
       "1             PMC3679557       ACS       biomacromolecules   \n",
       "2  23043264  PMC3506128        ACS              j med chem   \n",
       "3    23438330 PMC3646402       ACS              j med chem   \n",
       "4   23438216 PMC3601604        ACS              j org chem   \n",
       "\n",
       "                                       article_title     cost  \n",
       "0  Reduced parahippocampal cortical thickness in ...     0.00  \n",
       "1  Structural characterization of a Model Gram-ne...  2381.04  \n",
       "2  Fumaroylamino-4,5-epoxymorphinans and related ...   642.56  \n",
       "3  Orvinols with mixed kappa/mu opioid receptor a...   669.64  \n",
       "4  Regioselective opening of myo-inositol orthoes...   685.88  "
      ]
     },
     "execution_count": 37,
     "metadata": {},
     "output_type": "execute_result"
    }
   ],
   "source": [
    "apc.head()"
   ]
  },
  {
   "cell_type": "code",
   "execution_count": 38,
   "metadata": {},
   "outputs": [
    {
     "data": {
      "text/plain": [
       "plos one                                                                                     190\n",
       "journal of biological chemistry                                                               53\n",
       "neuroimage                                                                                    29\n",
       "plos genetics                                                                                 24\n",
       "plos pathogens                                                                                24\n",
       "nucleic acids research                                                                        23\n",
       "proceedings of the national academy of sciences                                               20\n",
       "plos neglected tropical diseases                                                              20\n",
       "nature communications                                                                         19\n",
       "human molecular genetics                                                                      19\n",
       "brain                                                                                         14\n",
       "bmc public health                                                                             14\n",
       "movement disorders                                                                            13\n",
       "journal of neuroscience                                                                       12\n",
       "biochemical journal                                                                           12\n",
       "developmental cell                                                                            12\n",
       "current biology                                                                               11\n",
       "journal of general virology                                                                   11\n",
       "bmj                                                                                           10\n",
       "plosone                                                                                        9\n",
       "bmj open                                                                                       9\n",
       "neuron                                                                                         9\n",
       "cell reports                                                                                   9\n",
       "plos computational biology                                                                     9\n",
       "molecular microbiology                                                                         8\n",
       "european journal of immunology                                                                 8\n",
       "hepatology                                                                                     8\n",
       "journal of physiology                                                                          8\n",
       "development                                                                                    8\n",
       "journal of clinical endocrinology and metabolism                                               8\n",
       "                                                                                            ... \n",
       "academy of nutrition and dietetics                                                             1\n",
       "chromosome research                                                                            1\n",
       "hpb                                                                                            1\n",
       "biological psychology                                                                          1\n",
       "molecular pain                                                                                 1\n",
       "mammalian genome                                                                               1\n",
       "seminars in immunopathology                                                                    1\n",
       "math biosci                                                                                    1\n",
       "journal of neuroendocrinology                                                                  1\n",
       "experimental cell research                                                                     1\n",
       "eur j immunol                                                                                  1\n",
       "am j trop med hyg                                                                              1\n",
       "lipids in health and disease                                                                   1\n",
       "south asian history and culture                                                                1\n",
       "parasit vectors.                                                                               1\n",
       "american journal of medical genetics                                                           1\n",
       "health: an interdisciplinary journal for the social study of health, illness and medicine      1\n",
       "health & place                                                                                 1\n",
       "protemics                                                                                      1\n",
       "neuroinformatics                                                                               1\n",
       "heart and circulatory physiology                                                               1\n",
       "mol biol and evolution                                                                         1\n",
       "respiration                                                                                    1\n",
       "cancer letters                                                                                 1\n",
       "journal of chemical information and modeling                                                   1\n",
       "developmental biology                                                                          1\n",
       "molecular genetics & genomic medicine                                                          1\n",
       "magnetic resonance in medicine                                                                 1\n",
       "bmc neurology                                                                                  1\n",
       "expert reviews in anti-infective chemotherapy                                                  1\n",
       "Name: journal_title, Length: 928, dtype: int64"
      ]
     },
     "execution_count": 38,
     "metadata": {},
     "output_type": "execute_result"
    }
   ],
   "source": [
    "apc.journal_title.value_counts()"
   ]
  },
  {
   "cell_type": "code",
   "execution_count": 39,
   "metadata": {},
   "outputs": [],
   "source": [
    "apc[\"journal_title\"]= apc[\"journal_title\"].replace(\"plos one\", \"plos\")"
   ]
  },
  {
   "cell_type": "code",
   "execution_count": 40,
   "metadata": {},
   "outputs": [],
   "source": [
    "apc[\"journal_title\"]= apc[\"journal_title\"].replace(\"plos genetics\", \"plos\")\n",
    "apc[\"journal_title\"]= apc[\"journal_title\"].replace(\"plosone\", \"plos\")\n",
    "apc[\"journal_title\"]= apc[\"journal_title\"].replace(\"plos pathogens\", \"plos\")\n",
    "apc[\"journal_title\"]= apc[\"journal_title\"].replace(\"plos computational biology\", \"plos\")\n",
    "apc[\"journal_title\"]= apc[\"journal_title\"].replace(\"plos neglected tropical diseases\", \"plos\")\n",
    "apc[\"journal_title\"]= apc[\"journal_title\"].replace(\"bmj open\", \"bmj\")\n",
    "\n"
   ]
  },
  {
   "cell_type": "code",
   "execution_count": 42,
   "metadata": {},
   "outputs": [
    {
     "data": {
      "text/plain": [
       "plos                                               280\n",
       "journal of biological chemistry                     53\n",
       "neuroimage                                          29\n",
       "nucleic acids research                              23\n",
       "proceedings of the national academy of sciences     20\n",
       "Name: journal_title, dtype: int64"
      ]
     },
     "execution_count": 42,
     "metadata": {},
     "output_type": "execute_result"
    }
   ],
   "source": [
    "apc.journal_title.value_counts().head(5)"
   ]
  },
  {
   "cell_type": "code",
   "execution_count": 44,
   "metadata": {},
   "outputs": [
    {
     "data": {
      "text/plain": [
       "count        2127\n",
       "unique       1402\n",
       "top       2040.00\n",
       "freq           94\n",
       "Name: cost, dtype: object"
      ]
     },
     "execution_count": 44,
     "metadata": {},
     "output_type": "execute_result"
    }
   ],
   "source": [
    "apc.cost.describe()"
   ]
  },
  {
   "cell_type": "code",
   "execution_count": 54,
   "metadata": {},
   "outputs": [],
   "source": [
    "x= apc.cost\n"
   ]
  },
  {
   "cell_type": "code",
   "execution_count": 64,
   "metadata": {},
   "outputs": [],
   "source": [
    "apc.cost = apc.cost.astype(float)"
   ]
  },
  {
   "cell_type": "code",
   "execution_count": 65,
   "metadata": {},
   "outputs": [
    {
     "data": {
      "text/plain": [
       "count      2127.000000\n",
       "mean      24067.339972\n",
       "std      146860.665559\n",
       "min           0.000000\n",
       "25%        1280.000000\n",
       "50%        1884.010000\n",
       "75%        2321.305000\n",
       "max      999999.000000\n",
       "Name: cost, dtype: float64"
      ]
     },
     "execution_count": 65,
     "metadata": {},
     "output_type": "execute_result"
    }
   ],
   "source": [
    "apc.cost.describe()"
   ]
  },
  {
   "cell_type": "code",
   "execution_count": null,
   "metadata": {},
   "outputs": [],
   "source": []
  }
 ],
 "metadata": {
  "kernelspec": {
   "display_name": "Python 3",
   "language": "python",
   "name": "python3"
  },
  "language_info": {
   "codemirror_mode": {
    "name": "ipython",
    "version": 3
   },
   "file_extension": ".py",
   "mimetype": "text/x-python",
   "name": "python",
   "nbconvert_exporter": "python",
   "pygments_lexer": "ipython3",
   "version": "3.7.2"
  }
 },
 "nbformat": 4,
 "nbformat_minor": 2
}
