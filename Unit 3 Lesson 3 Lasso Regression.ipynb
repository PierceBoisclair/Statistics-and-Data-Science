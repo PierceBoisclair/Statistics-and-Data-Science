{
 "cells": [
  {
   "cell_type": "code",
   "execution_count": 1,
   "metadata": {},
   "outputs": [],
   "source": [
    "import pandas as pd\n",
    "from matplotlib import pyplot as plt\n",
    "import numpy as np\n",
    "import math\n",
    "import seaborn as sns\n",
    "import sklearn\n",
    "from sklearn import linear_model\n",
    "from sklearn import preprocessing\n",
    "%matplotlib inline\n",
    "sns.set_style('white')"
   ]
  },
  {
   "cell_type": "code",
   "execution_count": 2,
   "metadata": {},
   "outputs": [
    {
     "name": "stderr",
     "output_type": "stream",
     "text": [
      "/Library/Frameworks/Python.framework/Versions/3.7/lib/python3.7/site-packages/ipykernel_launcher.py:9: DataConversionWarning: Data with input dtype int64, float64 were all converted to float64 by the scale function.\n",
      "  if __name__ == '__main__':\n"
     ]
    }
   ],
   "source": [
    "df = pd.read_csv(\n",
    "    'https://tf-assets-prod.s3.amazonaws.com/tf-curric/data-science/credit-card-defaults.csv'\n",
    ").iloc[:,1:].dropna()\n",
    "\n",
    "# Recode strings to numeric.\n",
    "df['default'] = np.where(df['default']=='Yes', 1, 0)\n",
    "df['student'] = np.where(df['student']=='Yes', 1, 0)\n",
    "names = df.columns\n",
    "df = pd.DataFrame(preprocessing.scale(df), columns=names)\n",
    "\n",
    "# Define the training and test sizes.\n",
    "trainsize = int(df.shape[0] / 2)\n",
    "df_test = df.iloc[trainsize:, :].copy()\n",
    "df_train = df.iloc[:trainsize, :].copy()\n",
    "\n",
    "Y_train = df_train['income'].values.reshape(-1, 1)\n",
    "X_train = df_train.loc[:, ~(df_train.columns).isin(['income'])]\n",
    "\n",
    "# Make some new features to capture potential quadratic and cubic\n",
    "# relationships between solar radiation and day or temperature.\n",
    "df_train['balance_student'] = df_train['balance'] * df_train['student']\n",
    "df_train['balance_default'] = df_train['balance'] * df_train['default']\n",
    "df_train['student_default'] = df_train['student'] * df_train['default']\n",
    "df_train['balance_sqrt'] = (df_train['balance'] + 100) ** .5\n",
    "df_train['balance2'] = (df_train['balance'] + 100) ** 2\n",
    "df_train['balance3'] = (df_train['balance'] + 100) ** 3\n",
    "\n",
    "X_train2 = df_train.loc[:, ~(df_train.columns).isin(['income'])]\n",
    "\n",
    "# Test the simpler model with smaller coefficients.\n",
    "Y_test = df_test['income'].values.reshape(-1, 1)\n",
    "X_test = df_test.loc[:, ~(df_test.columns).isin(['income'])]\n",
    "\n",
    "# Test the more complex model with larger coefficients.\n",
    "df_test['balance_student'] = df_test['balance'] * df_test['student']\n",
    "df_test['balance_default'] = df_test['balance'] * df_test['default']\n",
    "df_test['student_default'] = df_test['student'] * df_test['default']\n",
    "df_test['balance_sqrt'] = (df_test['balance'] + 100) ** .5\n",
    "df_test['balance2'] = (df_test['balance'] + 100) ** 2\n",
    "df_test['balance3'] = (df_test['balance'] + 100) ** 3\n",
    "X_test2 = df_test.loc[:, ~(df_test.columns).isin(['income'])]\n"
   ]
  },
  {
   "cell_type": "code",
   "execution_count": 3,
   "metadata": {
    "scrolled": true
   },
   "outputs": [
    {
     "name": "stdout",
     "output_type": "stream",
     "text": [
      "R² for the model with few features:\n",
      "0.450062579301185\n",
      "\n",
      "Parameter estimates for the model with few features:\n",
      "[-0.         -0.40657726 -0.          0.00114596]\n",
      "\n",
      "R² for the model with many features:\n",
      "0.44363376712897096\n",
      "\n",
      "Parameter estimates for the model with many features:\n",
      "[ 0.00000000e+00 -3.89351238e-01  0.00000000e+00 -0.00000000e+00\n",
      "  0.00000000e+00 -0.00000000e+00  0.00000000e+00 -2.77688887e-04\n",
      " -7.09158792e-07  3.48711577e+00]\n"
     ]
    }
   ],
   "source": [
    "# Small number of parameters.\n",
    "lass = linear_model.Lasso(alpha=.35)\n",
    "lassfit = lass.fit(X_train, Y_train)\n",
    "print('R² for the model with few features:')\n",
    "print(lass.score(X_train, Y_train))\n",
    "origparams = np.append(lassfit.coef_, lassfit.intercept_)\n",
    "print('\\nParameter estimates for the model with few features:')\n",
    "print(origparams)\n",
    "\n",
    "# Large number of parameters.\n",
    "lassBig = linear_model.Lasso(alpha=.35)\n",
    "lassBig.fit(X_train2, Y_train)\n",
    "print('\\nR² for the model with many features:')\n",
    "print(lassBig.score(X_train2, Y_train))\n",
    "origparams = np.append(lassBig.coef_, lassBig.intercept_)\n",
    "print('\\nParameter estimates for the model with many features:')\n",
    "print(origparams)"
   ]
  },
  {
   "cell_type": "code",
   "execution_count": 4,
   "metadata": {},
   "outputs": [
    {
     "name": "stdout",
     "output_type": "stream",
     "text": [
      "0.44553225151184195\n",
      "0.4380466345914476\n"
     ]
    }
   ],
   "source": [
    "print(lass.score(X_test, Y_test))\n",
    "\n",
    "print(lassBig.score(X_test2, Y_test))"
   ]
  },
  {
   "cell_type": "markdown",
   "metadata": {},
   "source": [
    "## Regularization parameter: Lasso\n",
    "The  𝜆  for lasso can var between 0 (no penalty, acts like OLS) and infinity. If  𝜆  is too large, all parameters will be set to zero.\n",
    "\n",
    "Create a plot below of how  𝑅2  varies across different values of  𝜆  for ridge and lasso regression. Use logic and code similar to the ridge regression demonstration above, and base your plot on the X_train2 feature set.\n",
    "\n",
    "Do lasso and ridge yield the same  𝑅2  for a given lambda value?\n",
    "\n",
    "Submit your work and discuss the results with your mentor."
   ]
  },
  {
   "cell_type": "code",
   "execution_count": 29,
   "metadata": {},
   "outputs": [
    {
     "name": "stderr",
     "output_type": "stream",
     "text": [
      "/Library/Frameworks/Python.framework/Versions/3.7/lib/python3.7/site-packages/sklearn/linear_model/coordinate_descent.py:492: ConvergenceWarning: Objective did not converge. You might want to increase the number of iterations. Fitting data with very small alpha may cause precision problems.\n",
      "  ConvergenceWarning)\n"
     ]
    }
   ],
   "source": [
    "#Lasso Regression\n",
    "alphaL = []\n",
    "r_squaredL = []\n",
    "for a in np.linspace(0.001, 1, 100):\n",
    "    lassBig = linear_model.Lasso(alpha = a)\n",
    "    lassBig.fit(X_train2, Y_train)\n",
    "    alphaL.append(a)\n",
    "    r_squaredL.append(lassBig.score(X_test2, Y_test))"
   ]
  },
  {
   "cell_type": "code",
   "execution_count": 30,
   "metadata": {},
   "outputs": [],
   "source": [
    "#Ridge Regression\n",
    "alphaR = []\n",
    "r_squaredR = []\n",
    "for a in np.linspace(0.001, 1, 100):\n",
    "    ridgeBig = linear_model.Ridge(alpha = a)\n",
    "    ridgeBig.fit(X_train2, Y_train)\n",
    "    alphaR.append(a)\n",
    "    r_squaredR.append(ridgeBig.score(X_test2, Y_test))"
   ]
  },
  {
   "cell_type": "code",
   "execution_count": 32,
   "metadata": {},
   "outputs": [
    {
     "data": {
      "image/png": "[encoded data removed]",
      "text/plain": [
       "<Figure size 432x288 with 1 Axes>"
      ]
     },
     "metadata": {
      "needs_background": "light"
     },
     "output_type": "display_data"
    }
   ],
   "source": [
    "plt.plot(alphaL, r_squaredL, label = 'Lasso')\n",
    "plt.plot(alphaR, r_squaredR, label = 'Ridge')\n",
    "plt.title('R Squared given Lambda')\n",
    "plt.legend()\n",
    "plt.show()"
   ]
  },
  {
   "cell_type": "markdown",
   "metadata": {},
   "source": [
    "No Lasso and Ridge Regression DO NOT yield the same R Squared value for a given Lambda. Once Lambda gets bigger(closer to 1) Lasso Regression R Squared Value decreases while Ridge R Squared stays relatively the same. "
   ]
  },
  {
   "cell_type": "code",
   "execution_count": 34,
   "metadata": {},
   "outputs": [
    {
     "data": {
      "text/plain": [
       "[0.5629993374908541,\n",
       " 0.5629991931004643,\n",
       " 0.5629992215285712,\n",
       " 0.5629992555389183,\n",
       " 0.5629992910431441,\n",
       " 0.5629993271592884,\n",
       " 0.5629993635836943,\n",
       " 0.5629994001837857,\n",
       " 0.5629994368924507,\n",
       " 0.5629994736720805,\n",
       " 0.5629995104999472,\n",
       " 0.5629995473615292,\n",
       " 0.5629995842470968,\n",
       " 0.5629996211498839,\n",
       " 0.5629996580650636,\n",
       " 0.5629996949890727,\n",
       " 0.5629997319192332,\n",
       " 0.5629997688535063,\n",
       " 0.5629998057902814,\n",
       " 0.5629998427283087,\n",
       " 0.5629998796665795,\n",
       " 0.5629999166042634,\n",
       " 0.5629999535406924,\n",
       " 0.5629999904753245,\n",
       " 0.5630000274076787,\n",
       " 0.5630000643373829,\n",
       " 0.563000101264098,\n",
       " 0.5630001381875449,\n",
       " 0.5630001751074798,\n",
       " 0.5630002120237094,\n",
       " 0.5630002489360394,\n",
       " 0.5630002858443137,\n",
       " 0.5630003227484013,\n",
       " 0.5630003596481763,\n",
       " 0.5630003965435408,\n",
       " 0.5630004334343919,\n",
       " 0.5630004703206434,\n",
       " 0.5630005072022308,\n",
       " 0.5630005440790833,\n",
       " 0.5630005809511338,\n",
       " 0.5630006178183345,\n",
       " 0.5630006546806388,\n",
       " 0.5630006915379945,\n",
       " 0.5630007283903695,\n",
       " 0.5630007652377259,\n",
       " 0.5630008020800249,\n",
       " 0.5630008389172447,\n",
       " 0.5630008757493471,\n",
       " 0.5630009125763156,\n",
       " 0.5630009493981245,\n",
       " 0.5630009862147506,\n",
       " 0.5630010230261766,\n",
       " 0.5630010598323842,\n",
       " 0.5630010966333518,\n",
       " 0.5630011334290697,\n",
       " 0.5630011702195148,\n",
       " 0.5630012070046887,\n",
       " 0.5630012437845631,\n",
       " 0.5630012805591358,\n",
       " 0.5630013173283933,\n",
       " 0.5630013540923228,\n",
       " 0.5630013908509253,\n",
       " 0.5630014276041739,\n",
       " 0.5630014643520782,\n",
       " 0.5630015010946186,\n",
       " 0.5630015378317944,\n",
       " 0.5630015745635972,\n",
       " 0.5630016112900172,\n",
       " 0.563001648011056,\n",
       " 0.5630016847266994,\n",
       " 0.5630017214369445,\n",
       " 0.5630017581417899,\n",
       " 0.5630017948412298,\n",
       " 0.5630018315352514,\n",
       " 0.5630018682238673,\n",
       " 0.5630019049070554,\n",
       " 0.5630019415848233,\n",
       " 0.5630019782571639,\n",
       " 0.5630020149240738,\n",
       " 0.5630020515855512,\n",
       " 0.5630020882415916,\n",
       " 0.5630021248921909,\n",
       " 0.5630021615373519,\n",
       " 0.5630021981770603,\n",
       " 0.5630022348113287,\n",
       " 0.5630022714401379,\n",
       " 0.5630023080635083,\n",
       " 0.5630023446814145,\n",
       " 0.5630023812938614,\n",
       " 0.5630024179008553,\n",
       " 0.5630024545023897,\n",
       " 0.5630024910984588,\n",
       " 0.56300252768907,\n",
       " 0.5630025642742111,\n",
       " 0.5630026008538878,\n",
       " 0.5630026374280946,\n",
       " 0.5630026739968299,\n",
       " 0.5630027105600981,\n",
       " 0.5630027471178887,\n",
       " 0.5630027836702072]"
      ]
     },
     "execution_count": 34,
     "metadata": {},
     "output_type": "execute_result"
    }
   ],
   "source": [
    "r_squaredR"
   ]
  },
  {
   "cell_type": "code",
   "execution_count": 35,
   "metadata": {},
   "outputs": [
    {
     "data": {
      "text/plain": [
       "[0.5631934565757893,\n",
       " 0.5633440106631951,\n",
       " 0.5632410919961068,\n",
       " 0.5628853412378318,\n",
       " 0.5623238087206515,\n",
       " 0.5615402747007632,\n",
       " 0.5605352118218208,\n",
       " 0.5593084389491815,\n",
       " 0.5578599560828452,\n",
       " 0.5561897632228121,\n",
       " 0.554297860369082,\n",
       " 0.5521842475216552,\n",
       " 0.5498489246805314,\n",
       " 0.5472918918457105,\n",
       " 0.5445131490171928,\n",
       " 0.5415126961949784,\n",
       " 0.538290533379067,\n",
       " 0.5348466605694586,\n",
       " 0.5311810777661534,\n",
       " 0.5272937849691512,\n",
       " 0.5231847821784523,\n",
       " 0.5188540693940564,\n",
       " 0.5143016466159634,\n",
       " 0.5095275138441738,\n",
       " 0.5045316710786871,\n",
       " 0.49931411831950356,\n",
       " 0.4938748555666231,\n",
       " 0.48821388282004585,\n",
       " 0.48233120007977154,\n",
       " 0.4762268073458006,\n",
       " 0.4699007046181325,\n",
       " 0.4633513224158012,\n",
       " 0.4565806698119396,\n",
       " 0.4495882677324771,\n",
       " 0.4423740556941239,\n",
       " 0.43493803043923396,\n",
       " 0.42728018885132385,\n",
       " 0.4194005278048665,\n",
       " 0.41129967894717545,\n",
       " 0.4029770579837917,\n",
       " 0.39443197473110236,\n",
       " 0.38566577723679885,\n",
       " 0.37667780250964444,\n",
       " 0.3674680490107497,\n",
       " 0.3580365151988627,\n",
       " 0.3483831995303701,\n",
       " 0.3385081004592979,\n",
       " 0.3284112164373113,\n",
       " 0.3180934712249647,\n",
       " 0.3075530446306619,\n",
       " 0.29679082896391284,\n",
       " 0.2858078450493522,\n",
       " 0.2746020801460278,\n",
       " 0.2631756115808349,\n",
       " 0.251526293340425,\n",
       " 0.23965633810310882,\n",
       " 0.22756346241801872,\n",
       " 0.2152500184847238,\n",
       " 0.2027000414847422,\n",
       " 0.18994269356558868,\n",
       " 0.176963612410441,\n",
       " 0.16376279801930027,\n",
       " 0.15034025039216536,\n",
       " 0.1366959695290375,\n",
       " 0.1228295672198163,\n",
       " 0.10874179238317971,\n",
       " 0.09443228364394562,\n",
       " 0.07990104100211592,\n",
       " 0.06514806445768839,\n",
       " 0.05017335401066492,\n",
       " 0.0349769096610435,\n",
       " 0.019558701883341634,\n",
       " 0.019252936690777656,\n",
       " 0.019252951322808243,\n",
       " 0.01925296595461723,\n",
       " 0.019252980586204393,\n",
       " 0.019252995217569735,\n",
       " 0.019253009848713587,\n",
       " 0.019253024479635394,\n",
       " 0.0192530391103356,\n",
       " 0.019253053740813986,\n",
       " 0.01925306837107077,\n",
       " 0.01925308300110573,\n",
       " 0.01925309763091887,\n",
       " 0.01925311226051052,\n",
       " 0.019253126889880123,\n",
       " 0.019253141519028127,\n",
       " 0.01925315614795453,\n",
       " 0.019253170776659,\n",
       " 0.01925318540514165,\n",
       " 0.019253200033402584,\n",
       " 0.01925321466144203,\n",
       " 0.019253229289259766,\n",
       " 0.019253243916855234,\n",
       " 0.019253258544229435,\n",
       " 0.019253273171381702,\n",
       " 0.019253287798312257,\n",
       " 0.019253302425021213,\n",
       " 0.019253317051508234,\n",
       " 0.019253331677773544]"
      ]
     },
     "execution_count": 35,
     "metadata": {},
     "output_type": "execute_result"
    }
   ],
   "source": [
    "r_squaredL"
   ]
  },
  {
   "cell_type": "code",
   "execution_count": null,
   "metadata": {},
   "outputs": [],
   "source": []
  }
 ],
 "metadata": {
  "kernelspec": {
   "display_name": "Python 3",
   "language": "python",
   "name": "python3"
  },
  "language_info": {
   "codemirror_mode": {
    "name": "ipython",
    "version": 3
   },
   "file_extension": ".py",
   "mimetype": "text/x-python",
   "name": "python",
   "nbconvert_exporter": "python",
   "pygments_lexer": "ipython3",
   "version": "3.7.2"
  }
 },
 "nbformat": 4,
 "nbformat_minor": 2
}
